{
 "cells": [
  {
   "cell_type": "code",
   "execution_count": 2,
   "id": "8ae70b15-af07-42d4-85bc-f985ba1ad125",
   "metadata": {},
   "outputs": [],
   "source": [
    "%matplotlib inline\n",
    "import glob, os, sys, timeit\n",
    "import matplotlib\n",
    "import numpy as np\n",
    "\n",
    "#sys.path.append('../')\n",
    "import pyqsofit.PyQSOFit\n",
    "from astropy.io import fits,ascii\n",
    "from astropy.table import Table\n",
    "import matplotlib.pyplot as plt\n",
    "import warnings\n",
    "import importlib\n",
    "\n",
    "importlib.reload(pyqsofit.PyQSOFit)\n",
    "\n",
    "warnings.filterwarnings(\"ignore\")\n",
    "\n",
    "#QSOFit.set_mpl_style()"
   ]
  },
  {
   "cell_type": "code",
   "execution_count": 29,
   "id": "2424bc0c-ba9f-4b96-8a25-80be26111c2b",
   "metadata": {},
   "outputs": [],
   "source": [
    "from mpdaf.obj import airtovac\n",
    "data_MUSE = np.loadtxt(os.path.join(os.path.join(datapath, '{}_1D'.format(\"MUSE\")), \"{}_nuclear_spec_r0.75_obj{}.txt\".format(\"MUSE\",obj)))\n",
    "lam_MUSE=data_MUSE[:,0]\n",
    "flux_MUSE=data_MUSE[:,1]\n",
    "lam_v_MUSE=airtovac(lam_MUSE)"
   ]
  },
  {
   "cell_type": "code",
   "execution_count": 60,
   "id": "ad331746-d5d6-40fe-94b4-25b8212d07d9",
   "metadata": {},
   "outputs": [
    {
     "data": {
      "text/plain": [
       "array([False, False, False, ..., False, False, False])"
      ]
     },
     "execution_count": 60,
     "metadata": {},
     "output_type": "execute_result"
    }
   ],
   "source": [
    "np.logical_and( lam_v_MUSE >= 8000, lam_v_MUSE <= 9000 )"
   ]
  },
  {
   "cell_type": "code",
   "execution_count": null,
   "id": "5ce69fa9-f121-48cc-9c2b-1facd90a311f",
   "metadata": {},
   "outputs": [],
   "source": [
    "lam_v_MUSE"
   ]
  },
  {
   "cell_type": "code",
   "execution_count": 183,
   "id": "38a0457e-029d-4431-a867-eb484900854e",
   "metadata": {},
   "outputs": [],
   "source": [
    "multiAGNpath=\"/disk/bifrost/yuanze/multiAGN\"\n",
    "psname1=\"UGC\"\n",
    "psname2=\"2369\"\n",
    "obj=3\n",
    "instru=\"KCWI\"\n",
    "stab = ascii.read(multiAGNpath+\"/sources.list\",format=\"ipac\")\n",
    "field=psname1+psname2\n",
    "sentry = stab[stab[\"Field\"]==field]\n",
    "RA=sentry[\"RA\"].value#[43.507814008,43.507573386,43.50724857]\n",
    "Dec=sentry[\"Dec\"].value#[14.9700775,14.9708075,14.97041556]\n",
    "datapath=os.path.join(multiAGNpath,psname1+psname2)\n",
    "z = sentry[\"z_sys\"][obj-1]\n",
    "path_ex = datapath #os.path.join(pyqsofit.__path__[0], '..', 'example')\n",
    "\n",
    "path_out = os.path.join(datapath, '{}_1D'.format(instru.split(\"_\")[0]))\n",
    "\n",
    "\n",
    "# Requried\n",
    "data = np.loadtxt(os.path.join(path_out, \"{}_nuclear_spec_obj{}.txt\".format(instru.split(\"_\")[0],obj)))\n",
    "lam = data[:,0]  # OBS wavelength [A]\n",
    "#flux = data[:,1]  # OBS flux [1e-16 erg/s/cm^2/A]\n",
    "err = data[:,2]  # 1 sigma error\n",
    "\n",
    "#continuum\n",
    "cont=np.loadtxt(os.path.join(path_out, \"{}_nuclear_spec_ppxfmodel_r0.75_obj{}.txt\".format(instru.split(\"_\")[0],obj))) # to 1e-16\n",
    "contwave=np.loadtxt(os.path.join(path_out, \"wave_ln_binned.txt\"))\n",
    "continterp=np.interp(lam,contwave,cont)\n",
    "flux=(data[:,1]-continterp)# OBS flux [1e-16 erg/s/cm^2/A]"
   ]
  },
  {
   "cell_type": "code",
   "execution_count": 185,
   "id": "f5c30ab2-4ad5-466b-9061-9d99e720f7d7",
   "metadata": {},
   "outputs": [
    {
     "data": {
      "text/plain": [
       "array([ 0.56048026,  0.46794227,  0.45977518, ..., -0.16920769,\n",
       "       -0.29018473, -3.23661112])"
      ]
     },
     "execution_count": 185,
     "metadata": {},
     "output_type": "execute_result"
    }
   ],
   "source": [
    "flux"
   ]
  },
  {
   "cell_type": "code",
   "execution_count": 186,
   "id": "6ef8bf60-44d2-4c51-b2ec-d33458b18984",
   "metadata": {},
   "outputs": [
    {
     "data": {
      "text/plain": [
       "(4500.0, 6000.0)"
      ]
     },
     "execution_count": 186,
     "metadata": {},
     "output_type": "execute_result"
    },
    {
     "data": {
      "image/png": "[encoded data removed]",
      "text/plain": [
       "<Figure size 350x262.5 with 1 Axes>"
      ]
     },
     "metadata": {},
     "output_type": "display_data"
    }
   ],
   "source": [
    "#plt.plot(lam_v_MUSE/(1+0.0312),flux_MUSE*1e-4,\"m\")\n",
    "plt.plot(lam/(1+0.0312),flux)\n",
    "plt.xlim([4500,6000])\n",
    "#plt.ylim([-5,5])"
   ]
  },
  {
   "cell_type": "markdown",
   "id": "d3eae028-1dc7-47d0-b716-3c8e36e7bc4e",
   "metadata": {
    "tags": []
   },
   "source": [
    "## Fitting parameter setup"
   ]
  },
  {
   "cell_type": "code",
   "execution_count": 198,
   "id": "0b635d33-8e4e-41b0-bde7-6d4b0fa655c7",
   "metadata": {
    "tags": []
   },
   "outputs": [],
   "source": [
    "\n",
    "# create FITS file containing fitting parameter setup \n",
    "hdr0 = fits.Header()\n",
    "hdr0['Author'] = 'Yuanze Ding'\n",
    "primary_hdu = fits.PrimaryHDU(header=hdr0)\n",
    "\n",
    "\"\"\"\n",
    "In this table, we specify the priors / initial conditions and boundaries for the line fitting parameters.\n",
    "\"\"\"\n",
    "\n",
    "line_priors = np.rec.array([\n",
    "    (5889.950, 'Ha', 4640, 6800, 'NaI5890', 1, 0.1, 0.0, 1e1, 1e-6, 2.3e-7, 0.0169, 5e-2, 4, 0, 1, 2., 1),\n",
    "    (5895.924, 'Ha', 4640, 6800, 'NaI5896', 1, 0.1, 0.0, 1e1, 1e-6, 2.3e-7, 0.0169, 5e-2, 4, 0, 1, 1., 1),\n",
    "    (5889.950, 'Ha', 5860, 5950, 'NaI5890w1', 1, 0.1, 0.0, 1e1, 1e-5, 2.3e-7, 0.0169, 5e-2, 5, 0, 2, 2., 1),\n",
    "    (5895.924, 'Ha', 5860, 5950, 'NaI5896w1', 1, 0.1, 0.0, 1e1, 1e-5, 2.3e-7, 0.0169, 5e-2, 5, 0, 2, 1., 1),\n",
    "    (5889.950, 'Ha', 5860, 5950, 'NaI5890w2', 1, 0.1, 0.0, 1e1, 1e-5, 2.3e-7, 0.0169, 5e-2, 6, 0, 3, 2., 1),\n",
    "    (5895.924, 'Ha', 5860, 5950, 'NaI5896w2', 1, 0.1, 0.0, 1e1, 1e-5, 2.3e-7, 0.0169, 5e-2, 6, 0, 3, 1., 1),\n",
    "    #(6564.61, 'Ha', 4640, 6800, 'Ha_br', 2, 0.0, 0.0, 1e10, 5e-3, 4e-4, 0.05, 0.015, 0, 0, 0, 0.05, 1),\n",
    "    #(6549.85, 'Ha', 6400, 6800, 'NII6549_br', 2, 0.0, 0.0, 1e10, 5e-3, 4e-4, 0.05, 0.015, 0, 0, 0, 0.05, 1),\n",
    "    #(6585.28, 'Ha', 6400, 6800, 'NII6585_br', 2, 0.0, 0.0, 1e10, 5e-3, 4e-4, 0.05, 0.015, 0, 0, 0, 0.05, 1),\n",
    "    (6564.61, 'Ha', 4640, 6800, 'Ha_na', 1, 1.0, 0.0, 1e10, 1e-3, 2.3e-7, 0.00169, 0.01, 1, 1, 0, 0.002, 1),\n",
    "    (6549.85, 'Ha', 4640, 6800, 'NII6549', 1, 1.0, 0.0, 1e10, 1e-3, 2.3e-7, 0.00169, 5e-3, 1, 1, 0, 0.001, 1),\n",
    "    (6585.28, 'Ha', 4640, 6800, 'NII6585', 1, 1.0, 0.0, 1e10, 1e-3, 2.3e-7, 0.00169, 5e-3, 1, 1, 0, 0.003, 1),\n",
    "    (6718.29, 'Ha', 4640, 6800, 'SII6718', 1, 1.0, 0.0, 1e10, 1e-3, 2.3e-7, 0.00169, 5e-3, 1, 1, 0, 0.001, 1),\n",
    "    (6732.67, 'Ha', 4640, 6800, 'SII6732', 1, 1.0, 0.0, 1e10, 1e-3, 2.3e-7, 0.00169, 5e-3, 1, 1, 0, 0.001, 1),\n",
    "    (5875.621, 'Ha', 4640, 6800, 'HeI5876', 1, 1.0, 0.0, 1e10, 1e-3, 2.3e-7, 0.00169, 5e-3, 1, 1, 0, 0.001, 1),\n",
    "    \n",
    "    \n",
    "\n",
    "    \n",
    "#    (8498.02, 'Ha', 6400, 6800, 'CaII8498', 1, 0.0, -1e10, 0.0, 1e-3, 2.3e-5, 0.00169, 5e-3, 7, 7, 0, 0.001, 1),\n",
    "#    (8542.09, 'Ha', 6400, 6800, 'CaII8542', 1, 0.0, -1e10, 0.0, 1e-3, 2.3e-5, 0.00169, 5e-3, 7, 7, 0, 0.001, 1),\n",
    "#    (8662.14, 'Ha', 6400, 6800, 'CaII8662', 1, 0.0,  -1e10, 0.0, 1e-3, 2.3e-5, 0.00169, 5e-3, 7, 7, 0, 0.001, 1),\n",
    "    \n",
    "    (6564.61, 'Ha', 4640, 6800, 'Ha_naw',  1, 1.0, 0.0, 1e10, 1e-3, 2.3e-7,  0.00169, 0.01, 3, 3, 0, 0.002, 1),\n",
    "    (6549.85, 'Ha', 4640, 6800, 'NII6549w', 1, 1.0, 0.0, 1e10, 1e-3, 2.3e-7, 0.00169, 5e-3, 3, 3, 0, 0.001, 1),\n",
    "    (6585.28, 'Ha', 4640, 6800, 'NII6585w', 1, 1.0, 0.0, 1e10, 1e-3, 2.3e-7, 0.00169, 5e-3, 3, 3, 0, 0.003, 1),\n",
    "    (6718.29, 'Ha', 4640, 6800, 'SII6718w', 1, 1.0, 0.0, 1e10, 1e-3, 2.3e-7, 0.00169, 5e-3, 3, 3, 0, 0.001, 1),\n",
    "    (6732.67, 'Ha', 4640, 6800, 'SII6732w', 1, 1.0, 0.0, 1e10, 1e-3, 2.3e-7, 0.00169, 5e-3, 3, 3, 0, 0.001, 1),\n",
    "\n",
    "    #(4862.68, 'Ha', 4640, 6800, 'Hb_br', 2, 0.0, 0.0, 1e10, 5e-3,  4e-4,  0.05,        0.01, 0, 0, 0, 0.01, 1),\n",
    "    (4862.68, 'Ha', 4640, 6800, 'Hb_na', 1, 1.0, 0.0, 1e10, 1e-3, 2.3e-7, 0.00169,     0.01, 1, 1, 0, 0.002, 1),\n",
    "    (4862.68, 'Ha', 4640, 6800, 'Hb_naw', 1, 1.0, 0.0, 1e10, 1e-3, 2.3e-7, 0.00169,    0.01, 3, 3, 0, 0.002, 1),\n",
    "    (4960.30, 'Ha', 4640, 6800, 'OIII4959c', 1, 1.0, 0.0, 1e10, 1e-3, 2.3e-7, 0.00169, 0.01, 1, 1, 0, 0.002, 1),\n",
    "    (5008.24, 'Ha', 4640, 6800, 'OIII5007c', 1, 1.0, 0.0, 1e10, 1e-3, 2.3e-7, 0.00169, 0.01, 1, 1, 0, 0.004, 1),\n",
    "    (4960.30, 'Ha', 4640, 6800, 'OIII4959w',   1,1.0, 0.0, 1e10, 3e-3, 2.3e-7, 0.004, 0.01, 3, 3, 0, 0.001, 1),\n",
    "    (5008.24, 'Ha', 4640, 6800, 'OIII5007w',   1, 1.0, 0.0, 1e10, 3e-3, 2.3e-7, 0.004, 0.01, 3, 3, 0, 0.002, 1)\n",
    "    ],\n",
    "\n",
    "    formats='float32,    a20,  float32, float32,      a20,  int32, float32, float32, float32, float32, float32, float32, float32,   int32,  int32,  int32, float32, int32',\n",
    "    names=' lambda, compname,   minwav,  maxwav, linename, ngauss,  inisca,  minsca,  maxsca,  inisig,  minsig,  maxsig,    voff,  vindex, windex, findex,  fvalue,  vary')\n",
    "\n",
    "# Header\n",
    "hdr1 = fits.Header()\n",
    "hdr1['lambda'] = 'Vacuum Wavelength in Ang'\n",
    "hdr1['minwav'] = 'Lower complex fitting wavelength range'\n",
    "hdr1['maxwav'] = 'Upper complex fitting wavelength range'\n",
    "hdr1['ngauss'] = 'Number of Gaussians for the line'\n",
    "\n",
    "# Can be set to negative for absorption lines if you want\n",
    "hdr1['inisca'] = 'Initial guess of line scale [flux]'\n",
    "hdr1['minsca'] = 'Lower range of line scale [flux]'\n",
    "hdr1['maxsca'] = 'Upper range of line scale [flux]'\n",
    "\n",
    "hdr1['inisig'] = 'Initial guess of linesigma [lnlambda]'\n",
    "hdr1['minsig'] = 'Lower range of line sigma [lnlambda]'\n",
    "hdr1['maxsig'] = 'Upper range of line sigma [lnlambda]'\n",
    "\n",
    "hdr1['voff  '] = 'Limits on velocity offset from the central wavelength [lnlambda]'\n",
    "hdr1['vindex'] = 'Entries w/ same NONZERO vindex constrained to have same velocity'\n",
    "hdr1['windex'] = 'Entries w/ same NONZERO windex constrained to have same width'\n",
    "hdr1['findex'] = 'Entries w/ same NONZERO findex have constrained flux ratios'\n",
    "hdr1['fvalue'] = 'Relative scale factor for entries w/ same findex'\n",
    "\n",
    "hdr1['vary'] = 'Whether or not to vary the parameter (set to 0 to fix the line parameter to initial values)'\n",
    "\n",
    "# Save line info\n",
    "hdu1 = fits.BinTableHDU(data=line_priors, header=hdr1, name='line_priors')\n",
    "\n",
    "\"\"\"\n",
    "In this table, we specify the windows and priors / initial conditions and boundaries for the continuum fitting parameters.\n",
    "\"\"\"\n",
    "\n",
    "conti_windows = np.rec.array([\n",
    "    (1150., 1170.), \n",
    "    (1275., 1290.),\n",
    "    (1350., 1360.),\n",
    "    (1445., 1465.),\n",
    "    (1690., 1705.),\n",
    "    (1770., 1810.),\n",
    "    (1970., 2400.),\n",
    "    (2480., 2675.),\n",
    "    (2925., 3400.),\n",
    "    (3775., 3832.),\n",
    "    (4000., 4050.),\n",
    "    (4200., 4230.),\n",
    "    (4435., 4640.),\n",
    "    (5100., 5535.),\n",
    "    (6005., 6035.),\n",
    "    (6110., 6250.),\n",
    "    (6800., 7000.),\n",
    "    (7160., 7180.),\n",
    "    (7500., 7800.),\n",
    "    (8050., 8150.), # Continuum fitting windows (to avoid emission line, etc.)  [AA]\n",
    "    (19700.,20250.),\n",
    "    (21700.,22250.)\n",
    "    ], \n",
    "    formats = 'float32,  float32',\n",
    "    names =    'min,     max')\n",
    "\n",
    "hdu2 = fits.BinTableHDU(data=conti_windows, name='conti_windows')\n",
    "\n",
    "conti_priors = np.rec.array([\n",
    "    ('Fe_uv_norm',  0.0,   0.0,   1e10,  0), # Normalization of the MgII Fe template [flux]\n",
    "    ('Fe_uv_FWHM',  3000,  1200,  18000, 0), # FWHM of the MgII Fe template [AA]\n",
    "    ('Fe_uv_shift', 0.0,   -0.01, 0.01,  0), # Wavelength shift of the MgII Fe template [lnlambda]\n",
    "    ('Fe_op_norm',  0.0,   0.0,   1e10,  0), # Normalization of the Hbeta/Halpha Fe template [flux]\n",
    "    ('Fe_op_FWHM',  3000,  1200,  18000, 0), # FWHM of the Hbeta/Halpha Fe template [AA]\n",
    "    ('Fe_op_shift', 0.0,   -0.01, 0.01,  0), # Wavelength shift of the Hbeta/Halpha Fe template [lnlambda]\n",
    "    ('PL_norm',     0.0,   0.0,   1e10,  0), # Normalization of the power-law (PL) continuum f_lambda = (lambda/3000)^-alpha\n",
    "    ('PL_slope',    -1.5,  -5.0,  3.0,   0), # Slope of the power-law (PL) continuum\n",
    "    ('Blamer_norm', 0.0,   0.0,   1e10,  0), # Normalization of the Balmer continuum at < 3646 AA [flux] (Dietrich et al. 2002)\n",
    "    ('Balmer_Te',   15000, 10000, 50000, 0), # Te of the Balmer continuum at < 3646 AA [K?]\n",
    "    ('Balmer_Tau',  0.0,   0.1,   2.0,   0), # Tau of the Balmer continuum at < 3646 AA\n",
    "    ('conti_a_0',   0.0,   None,  None,  0), # 1st coefficient of the polynomial continuum\n",
    "    ('conti_a_1',   0.0,   None,  None,  0), # 2nd coefficient of the polynomial continuum\n",
    "    ('conti_a_2',   0.0,   None,  None,  0), # 3rd coefficient of the polynomial continuum\n",
    "    # Note: The min/max bounds on the conti_a_0 coefficients are ignored by the code,\n",
    "    # so they can be determined automatically for numerical stability.\n",
    "    ],\n",
    "\n",
    "    formats = 'a20,  float32, float32, float32, int32',\n",
    "    names = 'parname, initial,   min,     max,     vary')\n",
    "\n",
    "hdr3 = fits.Header()\n",
    "hdr3['ini'] = 'Initial guess of line scale [flux]'\n",
    "hdr3['min'] = 'FWHM of the MgII Fe template'\n",
    "hdr3['max'] = 'Wavelength shift of the MgII Fe template'\n",
    "\n",
    "hdr3['vary'] = 'Whether or not to vary the parameter (set to 0 to fix the continuum parameter to initial values)'\n",
    "\n",
    "\n",
    "hdu3 = fits.BinTableHDU(data=conti_priors, header=hdr3, name='conti_priors')\n",
    "\n",
    "\"\"\"\n",
    "In this table, we allow user to customized some key parameters in our result measurements.\n",
    "\"\"\"\n",
    "\n",
    "measure_info = Table(\n",
    "    [\n",
    "        [[4600, 5100, 6400, 8000,20000,20900]],\n",
    "        [[\n",
    "            # [2240, 2650], \n",
    "            [5100, 5485],\n",
    "        ]]\n",
    "    ],\n",
    "    names=([\n",
    "        'cont_loc',\n",
    "        'Fe_flux_range'\n",
    "    ]),\n",
    "    dtype=([\n",
    "        'float32',\n",
    "        'float32'\n",
    "    ])\n",
    ")\n",
    "hdr4 = fits.Header()\n",
    "hdr4['cont_loc'] = 'The wavelength of continuum luminosity in results'\n",
    "hdr4['Fe_flux_range'] = 'Fe emission wavelength range calculated in results'\n",
    "\n",
    "hdu4 = fits.BinTableHDU(data=measure_info, header=hdr4, name='measure_info')\n",
    "\n",
    "hdu_list = fits.HDUList([primary_hdu, hdu1, hdu2, hdu3, hdu4])\n",
    "hdu_list.writeto(os.path.join(path_ex, 'qsopar_obj{}_{}.fits'.format(obj,instru)), overwrite=True)"
   ]
  },
  {
   "cell_type": "code",
   "execution_count": 200,
   "id": "13a13884-3764-4311-84d5-fa236608a124",
   "metadata": {},
   "outputs": [
    {
     "data": {
      "text/html": [
       "<div><i>Table length=23</i>\n",
       "<table id=\"table140644231777488\" class=\"table-striped table-bordered table-condensed\">\n",
       "<thead><tr><th>lambda</th><th>compname</th><th>minwav</th><th>maxwav</th><th>linename</th><th>ngauss</th><th>inisca</th><th>minsca</th><th>maxsca</th><th>inisig</th><th>minsig</th><th>maxsig</th><th>voff</th><th>vindex</th><th>windex</th><th>findex</th><th>fvalue</th><th>vary</th></tr></thead>\n",
       "<thead><tr><th>float32</th><th>bytes20</th><th>float32</th><th>float32</th><th>bytes20</th><th>int32</th><th>float32</th><th>float32</th><th>float32</th><th>float32</th><th>float32</th><th>float32</th><th>float32</th><th>int32</th><th>int32</th><th>int32</th><th>float32</th><th>int32</th></tr></thead>\n",
       "<tr><td>5889.95</td><td>Ha</td><td>4640.0</td><td>6800.0</td><td>NaI5890</td><td>1</td><td>0.1</td><td>0.0</td><td>10.0</td><td>1e-06</td><td>2.3e-07</td><td>0.0169</td><td>0.05</td><td>4</td><td>0</td><td>1</td><td>2.0</td><td>1</td></tr>\n",
       "<tr><td>5895.924</td><td>Ha</td><td>4640.0</td><td>6800.0</td><td>NaI5896</td><td>1</td><td>0.1</td><td>0.0</td><td>10.0</td><td>1e-06</td><td>2.3e-07</td><td>0.0169</td><td>0.05</td><td>4</td><td>0</td><td>1</td><td>1.0</td><td>1</td></tr>\n",
       "<tr><td>5889.95</td><td>Ha</td><td>5860.0</td><td>5950.0</td><td>NaI5890w1</td><td>1</td><td>0.1</td><td>0.0</td><td>10.0</td><td>1e-05</td><td>2.3e-07</td><td>0.0169</td><td>0.05</td><td>5</td><td>0</td><td>2</td><td>2.0</td><td>1</td></tr>\n",
       "<tr><td>5895.924</td><td>Ha</td><td>5860.0</td><td>5950.0</td><td>NaI5896w1</td><td>1</td><td>0.1</td><td>0.0</td><td>10.0</td><td>1e-05</td><td>2.3e-07</td><td>0.0169</td><td>0.05</td><td>5</td><td>0</td><td>2</td><td>1.0</td><td>1</td></tr>\n",
       "<tr><td>5889.95</td><td>Ha</td><td>5860.0</td><td>5950.0</td><td>NaI5890w2</td><td>1</td><td>0.1</td><td>0.0</td><td>10.0</td><td>1e-05</td><td>2.3e-07</td><td>0.0169</td><td>0.05</td><td>6</td><td>0</td><td>3</td><td>2.0</td><td>1</td></tr>\n",
       "<tr><td>5895.924</td><td>Ha</td><td>5860.0</td><td>5950.0</td><td>NaI5896w2</td><td>1</td><td>0.1</td><td>0.0</td><td>10.0</td><td>1e-05</td><td>2.3e-07</td><td>0.0169</td><td>0.05</td><td>6</td><td>0</td><td>3</td><td>1.0</td><td>1</td></tr>\n",
       "<tr><td>6564.61</td><td>Ha</td><td>4640.0</td><td>6800.0</td><td>Ha_na</td><td>1</td><td>1.0</td><td>0.0</td><td>10000000000.0</td><td>0.001</td><td>2.3e-07</td><td>0.00169</td><td>0.01</td><td>1</td><td>1</td><td>0</td><td>0.002</td><td>1</td></tr>\n",
       "<tr><td>6549.85</td><td>Ha</td><td>4640.0</td><td>6800.0</td><td>NII6549</td><td>1</td><td>1.0</td><td>0.0</td><td>10000000000.0</td><td>0.001</td><td>2.3e-07</td><td>0.00169</td><td>0.005</td><td>1</td><td>1</td><td>0</td><td>0.001</td><td>1</td></tr>\n",
       "<tr><td>6585.28</td><td>Ha</td><td>4640.0</td><td>6800.0</td><td>NII6585</td><td>1</td><td>1.0</td><td>0.0</td><td>10000000000.0</td><td>0.001</td><td>2.3e-07</td><td>0.00169</td><td>0.005</td><td>1</td><td>1</td><td>0</td><td>0.003</td><td>1</td></tr>\n",
       "<tr><td>6718.29</td><td>Ha</td><td>4640.0</td><td>6800.0</td><td>SII6718</td><td>1</td><td>1.0</td><td>0.0</td><td>10000000000.0</td><td>0.001</td><td>2.3e-07</td><td>0.00169</td><td>0.005</td><td>1</td><td>1</td><td>0</td><td>0.001</td><td>1</td></tr>\n",
       "<tr><td>...</td><td>...</td><td>...</td><td>...</td><td>...</td><td>...</td><td>...</td><td>...</td><td>...</td><td>...</td><td>...</td><td>...</td><td>...</td><td>...</td><td>...</td><td>...</td><td>...</td><td>...</td></tr>\n",
       "<tr><td>6549.85</td><td>Ha</td><td>4640.0</td><td>6800.0</td><td>NII6549w</td><td>1</td><td>1.0</td><td>0.0</td><td>10000000000.0</td><td>0.001</td><td>2.3e-07</td><td>0.00169</td><td>0.005</td><td>3</td><td>3</td><td>0</td><td>0.001</td><td>1</td></tr>\n",
       "<tr><td>6585.28</td><td>Ha</td><td>4640.0</td><td>6800.0</td><td>NII6585w</td><td>1</td><td>1.0</td><td>0.0</td><td>10000000000.0</td><td>0.001</td><td>2.3e-07</td><td>0.00169</td><td>0.005</td><td>3</td><td>3</td><td>0</td><td>0.003</td><td>1</td></tr>\n",
       "<tr><td>6718.29</td><td>Ha</td><td>4640.0</td><td>6800.0</td><td>SII6718w</td><td>1</td><td>1.0</td><td>0.0</td><td>10000000000.0</td><td>0.001</td><td>2.3e-07</td><td>0.00169</td><td>0.005</td><td>3</td><td>3</td><td>0</td><td>0.001</td><td>1</td></tr>\n",
       "<tr><td>6732.67</td><td>Ha</td><td>4640.0</td><td>6800.0</td><td>SII6732w</td><td>1</td><td>1.0</td><td>0.0</td><td>10000000000.0</td><td>0.001</td><td>2.3e-07</td><td>0.00169</td><td>0.005</td><td>3</td><td>3</td><td>0</td><td>0.001</td><td>1</td></tr>\n",
       "<tr><td>4862.68</td><td>Ha</td><td>4640.0</td><td>6800.0</td><td>Hb_na</td><td>1</td><td>1.0</td><td>0.0</td><td>10000000000.0</td><td>0.001</td><td>2.3e-07</td><td>0.00169</td><td>0.01</td><td>1</td><td>1</td><td>0</td><td>0.002</td><td>1</td></tr>\n",
       "<tr><td>4862.68</td><td>Ha</td><td>4640.0</td><td>6800.0</td><td>Hb_naw</td><td>1</td><td>1.0</td><td>0.0</td><td>10000000000.0</td><td>0.001</td><td>2.3e-07</td><td>0.00169</td><td>0.01</td><td>3</td><td>3</td><td>0</td><td>0.002</td><td>1</td></tr>\n",
       "<tr><td>4960.3</td><td>Ha</td><td>4640.0</td><td>6800.0</td><td>OIII4959c</td><td>1</td><td>1.0</td><td>0.0</td><td>10000000000.0</td><td>0.001</td><td>2.3e-07</td><td>0.00169</td><td>0.01</td><td>1</td><td>1</td><td>0</td><td>0.002</td><td>1</td></tr>\n",
       "<tr><td>5008.24</td><td>Ha</td><td>4640.0</td><td>6800.0</td><td>OIII5007c</td><td>1</td><td>1.0</td><td>0.0</td><td>10000000000.0</td><td>0.001</td><td>2.3e-07</td><td>0.00169</td><td>0.01</td><td>1</td><td>1</td><td>0</td><td>0.004</td><td>1</td></tr>\n",
       "<tr><td>4960.3</td><td>Ha</td><td>4640.0</td><td>6800.0</td><td>OIII4959w</td><td>1</td><td>1.0</td><td>0.0</td><td>10000000000.0</td><td>0.003</td><td>2.3e-07</td><td>0.004</td><td>0.01</td><td>3</td><td>3</td><td>0</td><td>0.001</td><td>1</td></tr>\n",
       "<tr><td>5008.24</td><td>Ha</td><td>4640.0</td><td>6800.0</td><td>OIII5007w</td><td>1</td><td>1.0</td><td>0.0</td><td>10000000000.0</td><td>0.003</td><td>2.3e-07</td><td>0.004</td><td>0.01</td><td>3</td><td>3</td><td>0</td><td>0.002</td><td>1</td></tr>\n",
       "</table></div>"
      ],
      "text/plain": [
       "<Table length=23>\n",
       " lambda  compname  minwav  maxwav  linename ... windex findex  fvalue  vary\n",
       "float32  bytes20  float32 float32  bytes20  ... int32  int32  float32 int32\n",
       "-------- -------- ------- ------- --------- ... ------ ------ ------- -----\n",
       " 5889.95       Ha  4640.0  6800.0   NaI5890 ...      0      1     2.0     1\n",
       "5895.924       Ha  4640.0  6800.0   NaI5896 ...      0      1     1.0     1\n",
       " 5889.95       Ha  5860.0  5950.0 NaI5890w1 ...      0      2     2.0     1\n",
       "5895.924       Ha  5860.0  5950.0 NaI5896w1 ...      0      2     1.0     1\n",
       " 5889.95       Ha  5860.0  5950.0 NaI5890w2 ...      0      3     2.0     1\n",
       "5895.924       Ha  5860.0  5950.0 NaI5896w2 ...      0      3     1.0     1\n",
       " 6564.61       Ha  4640.0  6800.0     Ha_na ...      1      0   0.002     1\n",
       " 6549.85       Ha  4640.0  6800.0   NII6549 ...      1      0   0.001     1\n",
       " 6585.28       Ha  4640.0  6800.0   NII6585 ...      1      0   0.003     1\n",
       " 6718.29       Ha  4640.0  6800.0   SII6718 ...      1      0   0.001     1\n",
       "     ...      ...     ...     ...       ... ...    ...    ...     ...   ...\n",
       " 6549.85       Ha  4640.0  6800.0  NII6549w ...      3      0   0.001     1\n",
       " 6585.28       Ha  4640.0  6800.0  NII6585w ...      3      0   0.003     1\n",
       " 6718.29       Ha  4640.0  6800.0  SII6718w ...      3      0   0.001     1\n",
       " 6732.67       Ha  4640.0  6800.0  SII6732w ...      3      0   0.001     1\n",
       " 4862.68       Ha  4640.0  6800.0     Hb_na ...      1      0   0.002     1\n",
       " 4862.68       Ha  4640.0  6800.0    Hb_naw ...      3      0   0.002     1\n",
       "  4960.3       Ha  4640.0  6800.0 OIII4959c ...      1      0   0.002     1\n",
       " 5008.24       Ha  4640.0  6800.0 OIII5007c ...      1      0   0.004     1\n",
       "  4960.3       Ha  4640.0  6800.0 OIII4959w ...      3      0   0.001     1\n",
       " 5008.24       Ha  4640.0  6800.0 OIII5007w ...      3      0   0.002     1"
      ]
     },
     "execution_count": 200,
     "metadata": {},
     "output_type": "execute_result"
    }
   ],
   "source": [
    "Table(line_priors)"
   ]
  },
  {
   "cell_type": "markdown",
   "id": "c85c5a81-bbff-4426-8ad9-c23dad440ed4",
   "metadata": {
    "tags": []
   },
   "source": [
    "## Start fitting"
   ]
  },
  {
   "cell_type": "code",
   "execution_count": 201,
   "id": "d4a66fda-dc32-4af7-beae-5f7aa1a06824",
   "metadata": {
    "tags": []
   },
   "outputs": [
    {
     "name": "stdout",
     "output_type": "stream",
     "text": [
      "Name            Value      Min      Max   Stderr     Vary     Expr Brute_Step\n",
      "Balmer_Tau        0.1      0.1        2     None    False     None     None\n",
      "Balmer_Te     1.5e+04    1e+04    5e+04     None    False     None     None\n",
      "Blamer_norm         0        0    1e+10     None    False     None     None\n",
      "Fe_op_FWHM       3000     1200  1.8e+04     None    False     None     None\n",
      "Fe_op_norm          0        0    1e+10     None    False     None     None\n",
      "Fe_op_shift         0    -0.01     0.01     None    False     None     None\n",
      "Fe_uv_FWHM       3000     1200  1.8e+04     None    False     None     None\n",
      "Fe_uv_norm          0        0    1e+10     None    False     None     None\n",
      "Fe_uv_shift         0    -0.01     0.01     None    False     None     None\n",
      "PL_norm             0        0    1e+10     None    False     None     None\n",
      "PL_slope         -1.5       -5        3     None    False     None     None\n",
      "conti_a_0           0     -inf      inf     None    False     None     None\n",
      "conti_a_1           0     -inf      inf     None    False     None     None\n",
      "conti_a_2           0     -inf      inf     None    False     None     None\n",
      "Fitting continuum\n",
      "Fit report\n",
      "[[Variables]]\n",
      "    Fe_uv_norm:   0 (fixed)\n",
      "    Fe_uv_FWHM:   3000 (fixed)\n",
      "    Fe_uv_shift:  0 (fixed)\n",
      "    Fe_op_norm:   0 (fixed)\n",
      "    Fe_op_FWHM:   3000 (fixed)\n",
      "    Fe_op_shift:  0 (fixed)\n",
      "    PL_norm:      0 (fixed)\n",
      "    PL_slope:    -1.5 (fixed)\n",
      "    Blamer_norm:  0 (fixed)\n",
      "    Balmer_Te:    15000 (fixed)\n",
      "    Balmer_Tau:   0.1 (fixed)\n",
      "    conti_a_0:    0 (fixed)\n",
      "    conti_a_1:    0 (fixed)\n",
      "    conti_a_2:    0 (fixed)\n",
      "Name                  Value      Min      Max   Stderr     Vary     Expr Brute_Step\n",
      "Cf_0                    0.8        0        1     None     True     None     None\n",
      "Cf_1                    0.8        0        1     None     True     None     None\n",
      "Cf_2                    0.8        0        1     None     True     None     None\n",
      "Ha_na_1_dwave             0    -0.01     0.01     None     True     None     None\n",
      "Ha_na_1_scale             1        0    1e+10     None     True     None     None\n",
      "Ha_na_1_sigma         0.001  2.3e-07  0.00169     None     True     None     None\n",
      "Ha_naw_1_dwave            0    -0.01     0.01     None     True     None     None\n",
      "Ha_naw_1_scale            1        0    1e+10     None     True     None     None\n",
      "Ha_naw_1_sigma        0.001  2.3e-07  0.00169     None     True     None     None\n",
      "Hb_na_1_dwave             0    -0.01     0.01     None    False Ha_na_1_dwave     None\n",
      "Hb_na_1_scale             1        0    1e+10     None     True     None     None\n",
      "Hb_na_1_sigma         0.001  2.3e-07  0.00169     None    False Ha_na_1_sigma     None\n",
      "Hb_naw_1_dwave            0    -0.01     0.01     None    False Ha_naw_1_dwave     None\n",
      "Hb_naw_1_scale            1        0    1e+10     None     True     None     None\n",
      "Hb_naw_1_sigma        0.001  2.3e-07  0.00169     None    False Ha_naw_1_sigma     None\n",
      "HeI5876_1_dwave           0   -0.005    0.005     None    False Ha_na_1_dwave     None\n",
      "HeI5876_1_scale           1        0    1e+10     None     True     None     None\n",
      "HeI5876_1_sigma       0.001  2.3e-07  0.00169     None    False Ha_na_1_sigma     None\n",
      "NII6549_1_dwave           0   -0.005    0.005     None    False Ha_na_1_dwave     None\n",
      "NII6549_1_scale           1        0    1e+10     None     True     None     None\n",
      "NII6549_1_sigma       0.001  2.3e-07  0.00169     None    False Ha_na_1_sigma     None\n",
      "NII6549w_1_dwave          0   -0.005    0.005     None    False Ha_naw_1_dwave     None\n",
      "NII6549w_1_scale          1        0    1e+10     None     True     None     None\n",
      "NII6549w_1_sigma      0.001  2.3e-07  0.00169     None    False Ha_naw_1_sigma     None\n",
      "NII6585_1_dwave           0   -0.005    0.005     None    False Ha_na_1_dwave     None\n",
      "NII6585_1_scale           1        0    1e+10     None     True     None     None\n",
      "NII6585_1_sigma       0.001  2.3e-07  0.00169     None    False Ha_na_1_sigma     None\n",
      "NII6585w_1_dwave          0   -0.005    0.005     None    False Ha_naw_1_dwave     None\n",
      "NII6585w_1_scale          1        0    1e+10     None     True     None     None\n",
      "NII6585w_1_sigma      0.001  2.3e-07  0.00169     None    False Ha_naw_1_sigma     None\n",
      "NaI5890_1_dwave           0    -0.05     0.05     None     True     None     None\n",
      "NaI5890_1_scale         0.1        0       10     None     True     None     None\n",
      "NaI5890_1_sigma       1e-06  2.3e-07   0.0169     None     True     None     None\n",
      "NaI5890w1_1_dwave         0    -0.05     0.05     None     True     None     None\n",
      "NaI5890w1_1_scale       0.1        0       10     None     True     None     None\n",
      "NaI5890w1_1_sigma     1e-05  2.3e-07   0.0169     None     True     None     None\n",
      "NaI5890w2_1_dwave         0    -0.05     0.05     None     True     None     None\n",
      "NaI5890w2_1_scale       0.1        0       10     None     True     None     None\n",
      "NaI5890w2_1_sigma     1e-05  2.3e-07   0.0169     None     True     None     None\n",
      "NaI5896_1_dwave           0    -0.05     0.05     None    False NaI5890_1_dwave     None\n",
      "NaI5896_1_scale        0.05        0       10     None    False 0.5 * NaI5890_1_scale     None\n",
      "NaI5896_1_sigma       1e-06  2.3e-07   0.0169     None     True     None     None\n",
      "NaI5896w1_1_dwave         0    -0.05     0.05     None    False NaI5890w1_1_dwave     None\n",
      "NaI5896w1_1_scale      0.05        0       10     None    False 0.5 * NaI5890w1_1_scale     None\n",
      "NaI5896w1_1_sigma     1e-05  2.3e-07   0.0169     None     True     None     None\n",
      "NaI5896w2_1_dwave         0    -0.05     0.05     None    False NaI5890w2_1_dwave     None\n",
      "NaI5896w2_1_scale      0.05        0       10     None    False 0.5 * NaI5890w2_1_scale     None\n",
      "NaI5896w2_1_sigma     1e-05  2.3e-07   0.0169     None     True     None     None\n",
      "OIII4959c_1_dwave         0    -0.01     0.01     None    False Ha_na_1_dwave     None\n",
      "OIII4959c_1_scale         1        0    1e+10     None     True     None     None\n",
      "OIII4959c_1_sigma     0.001  2.3e-07  0.00169     None    False Ha_na_1_sigma     None\n",
      "OIII4959w_1_dwave         0    -0.01     0.01     None    False Ha_naw_1_dwave     None\n",
      "OIII4959w_1_scale         1        0    1e+10     None     True     None     None\n",
      "OIII4959w_1_sigma     0.001  2.3e-07    0.004     None    False Ha_naw_1_sigma     None\n",
      "OIII5007c_1_dwave         0    -0.01     0.01     None    False Ha_na_1_dwave     None\n",
      "OIII5007c_1_scale         1        0    1e+10     None     True     None     None\n",
      "OIII5007c_1_sigma     0.001  2.3e-07  0.00169     None    False Ha_na_1_sigma     None\n",
      "OIII5007w_1_dwave         0    -0.01     0.01     None    False Ha_naw_1_dwave     None\n",
      "OIII5007w_1_scale         1        0    1e+10     None     True     None     None\n",
      "OIII5007w_1_sigma     0.001  2.3e-07    0.004     None    False Ha_naw_1_sigma     None\n",
      "SII6718_1_dwave           0   -0.005    0.005     None    False Ha_na_1_dwave     None\n",
      "SII6718_1_scale           1        0    1e+10     None     True     None     None\n",
      "SII6718_1_sigma       0.001  2.3e-07  0.00169     None    False Ha_na_1_sigma     None\n",
      "SII6718w_1_dwave          0   -0.005    0.005     None    False Ha_naw_1_dwave     None\n",
      "SII6718w_1_scale          1        0    1e+10     None     True     None     None\n",
      "SII6718w_1_sigma      0.001  2.3e-07  0.00169     None    False Ha_naw_1_sigma     None\n",
      "SII6732_1_dwave           0   -0.005    0.005     None    False Ha_na_1_dwave     None\n",
      "SII6732_1_scale           1        0    1e+10     None     True     None     None\n",
      "SII6732_1_sigma       0.001  2.3e-07  0.00169     None    False Ha_na_1_sigma     None\n",
      "SII6732w_1_dwave          0   -0.005    0.005     None    False Ha_naw_1_dwave     None\n",
      "SII6732w_1_scale          1        0    1e+10     None     True     None     None\n",
      "SII6732w_1_sigma      0.001  2.3e-07  0.00169     None    False Ha_naw_1_sigma     None\n",
      "Fitting complex Ha\n",
      "Fit report\n",
      "[[Variables]]\n",
      "    NaI5890_1_scale:    0.10000000 (init = 0.1)\n",
      "    NaI5890_1_dwave:    5.0000e-07 (init = 0)\n",
      "    NaI5890_1_sigma:    1.0000e-06 (init = 1e-06)\n",
      "    NaI5896_1_scale:    0.05000000 == '0.5 * NaI5890_1_scale'\n",
      "    NaI5896_1_dwave:    5.0000e-07 == 'NaI5890_1_dwave'\n",
      "    NaI5896_1_sigma:    1.0000e-06 (init = 1e-06)\n",
      "    NaI5890w1_1_scale:  7.80015193 (init = 0.1)\n",
      "    NaI5890w1_1_dwave: -0.00206453 (init = 0)\n",
      "    NaI5890w1_1_sigma:  0.00103908 (init = 1e-05)\n",
      "    NaI5896w1_1_scale:  3.90007596 == '0.5 * NaI5890w1_1_scale'\n",
      "    NaI5896w1_1_dwave: -0.00206453 == 'NaI5890w1_1_dwave'\n",
      "    NaI5896w1_1_sigma:  3.5070e-04 (init = 1e-05)\n",
      "    NaI5890w2_1_scale:  2.33780627 (init = 0.1)\n",
      "    NaI5890w2_1_dwave: -0.00132871 (init = 0)\n",
      "    NaI5890w2_1_sigma:  2.2901e-04 (init = 1e-05)\n",
      "    NaI5896w2_1_scale:  1.16890313 == '0.5 * NaI5890w2_1_scale'\n",
      "    NaI5896w2_1_dwave: -0.00132871 == 'NaI5890w2_1_dwave'\n",
      "    NaI5896w2_1_sigma:  2.8303e-04 (init = 1e-05)\n",
      "    Ha_na_1_scale:      68.9602031 (init = 1)\n",
      "    Ha_na_1_dwave:     -2.1172e-04 (init = 0)\n",
      "    Ha_na_1_sigma:      3.2065e-04 (init = 0.001)\n",
      "    NII6549_1_scale:    13.1594541 (init = 1)\n",
      "    NII6549_1_dwave:   -2.1172e-04 == 'Ha_na_1_dwave'\n",
      "    NII6549_1_sigma:    3.2065e-04 == 'Ha_na_1_sigma'\n",
      "    NII6585_1_scale:    43.0440028 (init = 1)\n",
      "    NII6585_1_dwave:   -2.1172e-04 == 'Ha_na_1_dwave'\n",
      "    NII6585_1_sigma:    3.2065e-04 == 'Ha_na_1_sigma'\n",
      "    SII6718_1_scale:    6.28463059 (init = 1)\n",
      "    SII6718_1_dwave:   -2.1172e-04 == 'Ha_na_1_dwave'\n",
      "    SII6718_1_sigma:    3.2065e-04 == 'Ha_na_1_sigma'\n",
      "    SII6732_1_scale:    7.15667192 (init = 1)\n",
      "    SII6732_1_dwave:   -2.1172e-04 == 'Ha_na_1_dwave'\n",
      "    SII6732_1_sigma:    3.2065e-04 == 'Ha_na_1_sigma'\n",
      "    HeI5876_1_scale:    0.69472816 (init = 1)\n",
      "    HeI5876_1_dwave:   -2.1172e-04 == 'Ha_na_1_dwave'\n",
      "    HeI5876_1_sigma:    3.2065e-04 == 'Ha_na_1_sigma'\n",
      "    Ha_naw_1_scale:     12.0355831 (init = 1)\n",
      "    Ha_naw_1_dwave:    -7.4441e-04 (init = 0)\n",
      "    Ha_naw_1_sigma:     0.00107401 (init = 0.001)\n",
      "    NII6549w_1_scale:   4.13917123 (init = 1)\n",
      "    NII6549w_1_dwave:  -7.4441e-04 == 'Ha_naw_1_dwave'\n",
      "    NII6549w_1_sigma:   0.00107401 == 'Ha_naw_1_sigma'\n",
      "    NII6585w_1_scale:   10.8274845 (init = 1)\n",
      "    NII6585w_1_dwave:  -7.4441e-04 == 'Ha_naw_1_dwave'\n",
      "    NII6585w_1_sigma:   0.00107401 == 'Ha_naw_1_sigma'\n",
      "    SII6718w_1_scale:   1.40090772 (init = 1)\n",
      "    SII6718w_1_dwave:  -7.4441e-04 == 'Ha_naw_1_dwave'\n",
      "    SII6718w_1_sigma:   0.00107401 == 'Ha_naw_1_sigma'\n",
      "    SII6732w_1_scale:   0.91410768 (init = 1)\n",
      "    SII6732w_1_dwave:  -7.4441e-04 == 'Ha_naw_1_dwave'\n",
      "    SII6732w_1_sigma:   0.00107401 == 'Ha_naw_1_sigma'\n",
      "    Hb_na_1_scale:      12.8675204 (init = 1)\n",
      "    Hb_na_1_dwave:     -2.1172e-04 == 'Ha_na_1_dwave'\n",
      "    Hb_na_1_sigma:      3.2065e-04 == 'Ha_na_1_sigma'\n",
      "    Hb_naw_1_scale:     3.32710359 (init = 1)\n",
      "    Hb_naw_1_dwave:    -7.4441e-04 == 'Ha_naw_1_dwave'\n",
      "    Hb_naw_1_sigma:     0.00107401 == 'Ha_naw_1_sigma'\n",
      "    OIII4959c_1_scale:  1.21979871 (init = 1)\n",
      "    OIII4959c_1_dwave: -2.1172e-04 == 'Ha_na_1_dwave'\n",
      "    OIII4959c_1_sigma:  3.2065e-04 == 'Ha_na_1_sigma'\n",
      "    OIII5007c_1_scale:  3.66206065 (init = 1)\n",
      "    OIII5007c_1_dwave: -2.1172e-04 == 'Ha_na_1_dwave'\n",
      "    OIII5007c_1_sigma:  3.2065e-04 == 'Ha_na_1_sigma'\n",
      "    OIII4959w_1_scale:  0.67209460 (init = 1)\n",
      "    OIII4959w_1_dwave: -7.4441e-04 == 'Ha_naw_1_dwave'\n",
      "    OIII4959w_1_sigma:  0.00107401 == 'Ha_naw_1_sigma'\n",
      "    OIII5007w_1_scale:  2.68181755 (init = 1)\n",
      "    OIII5007w_1_dwave: -7.4441e-04 == 'Ha_naw_1_dwave'\n",
      "    OIII5007w_1_sigma:  0.00107401 == 'Ha_naw_1_sigma'\n",
      "    Cf_0:               0.80000000 (init = 0.8)\n",
      "    Cf_1:               0.16970709 (init = 0.8)\n",
      "    Cf_2:               0.46067513 (init = 0.8)\n",
      "Fitting finished in 239.5s\n"
     ]
    },
    {
     "data": {
      "image/png": "[encoded data removed]",
      "text/plain": [
       "<Figure size 1500x800 with 2 Axes>"
      ]
     },
     "metadata": {},
     "output_type": "display_data"
    }
   ],
   "source": [
    "# Prepare data\n",
    "goodpixind=~((lam>5550) &(lam<5650))\n",
    "\n",
    "q_mle = pyqsofit.PyQSOFit.QSOFit(lam[goodpixind], flux[goodpixind], err[goodpixind], z, ra=RA[int(obj)-1], dec=Dec[int(obj)-1], path=path_ex)#plateid=plateid, mjd=mjd, fiberid=fiberid,ra=ra, dec=dec,\n",
    "\n",
    "# Double check the installation path with the PCA / Fe template files\n",
    "#print('install path:', q_mle.install_path)\n",
    "\n",
    "# Change it if you installed them somewhere else\n",
    "#q_mle.install_path = '...'\n",
    "\n",
    "start = timeit.default_timer()\n",
    "# Do the fitting\n",
    "#continterp=np.interp(q_mle.wave,contwave,cont)\n",
    "\n",
    "q_mle.Fit(num_abs_line=6,\n",
    "          Cf=[0.8,0.0,1.0],\n",
    "          nline=[2,2,2], #the number of absorption lines in each abs_ncomp velocity component.\n",
    "          abs_ncomp=3, #the number of different velocity components for absorption lines.\n",
    "          external_cont=np.array([contwave,cont]),\n",
    "          name=None,  # customize the name of given targets. Default: plate-mjd-fiber\n",
    "          # prepocessing parameters\n",
    "          nsmooth=None,  # do n-pixel smoothing to the raw input flux and err spectra\n",
    "          and_mask=False,  # delete the and masked pixels\n",
    "          or_mask=False,  # delete the or masked pixels\n",
    "          reject_badpix=False,  # reject 10 most possible outliers by the test of pointDistGESD\n",
    "          deredden=True,  # correct the Galactic extinction\n",
    "          wave_range=None,  # trim input wavelength\n",
    "          wave_mask=None,  # 2-D array, mask the given range(s)\n",
    "\n",
    "          # host decomposition parameters\n",
    "          decompose_host=False,  # If True, the host galaxy-QSO decomposition will be applied\n",
    "          host_prior=False, # If True, the code will adopt prior-informed method to assist decomposition. Currently, only 'CZBIN1' and 'DZBIN1' model for QSO PCA are available. And the model for galaxy must be PCA too.\n",
    "          host_prior_scale=0.2, # scale of prior panelty. Usually, 0.2 works fine for SDSS spectra. Adjust it smaller if you find the prior affect the fitting results too much.\n",
    "\n",
    "          host_line_mask=True, # If True, the line region of galaxy will be masked when subtracted from original spectra.\n",
    "          decomp_na_mask=True, # If True, the narrow line region will be masked when perform decomposition\n",
    "          qso_type='CZBIN1', # PCA template name for quasar\n",
    "          npca_qso=10, # numebr of quasar templates\n",
    "          host_type='PCA', # template name for galaxy\n",
    "          npca_gal=5, # number of galaxy templates\n",
    "          \n",
    "          # continuum model fit parameters\n",
    "          do_continumm=False, # ignore the whole continuum fitting process with MCMC\n",
    "          Fe_uv_op=False,  # If True, fit continuum with UV and optical FeII template\n",
    "          poly=False,  # If True, fit continuum with the polynomial component to account for the dust reddening\n",
    "          BC=False,  # If True, fit continuum with Balmer continua from 1000 to 3646A\n",
    "          initial_guess=None,  # Initial parameters for continuum model, read the annotation of this function for detail\n",
    "          rej_abs_conti=False,  # If True, it will iterately reject 3 sigma outlier absorption pixels in the continuum\n",
    "          n_pix_min_conti=100,  # Minimum number of negative pixels for host continuuum fit to be rejected.\n",
    "\n",
    "          # emission line fit parameters\n",
    "          linefit=True,  # If True, the emission line will be fitted\n",
    "          rej_abs_line=False,\n",
    "          # If True, it will iterately reject 3 sigma outlier absorption pixels in the emission lines\n",
    "\n",
    "          # fitting method selection\n",
    "          MC=False,\n",
    "          # If True, do Monte Carlo resampling of the spectrum based on the input error array to produce the MC error array\n",
    "          MCMC=False,\n",
    "          # If True, do Markov Chain Monte Carlo sampling of the posterior probability densities to produce the error array\n",
    "          nsamp=2000,\n",
    "          # The number of trials of the MC process (if MC=True) or number samples to run MCMC chain (if MCMC=True)\n",
    "\n",
    "          # advanced fitting parameters\n",
    "          param_file_name='qsopar_obj{}_{}.fits'.format(obj,instru),  # Name of the qso fitting parameter FITS file.\n",
    "          nburn=100,  # The number of burn-in samples to run MCMC chain\n",
    "          nthin=10,  # To set the MCMC chain returns every n samples\n",
    "          epsilon_jitter=0.,\n",
    "          # Initial jitter for every initial guass to avoid local minimum. (Under test, not recommanded to change)\n",
    "\n",
    "          # customize the results\n",
    "          save_result=False,  # If True, all the fitting results will be saved to a fits file\n",
    "          save_fits_name=None,  # The output name of the result fits\n",
    "          save_fits_path=path_out,  # The output path of the result fits\n",
    "          plot_fig=True,  # If True, the fitting results will be plotted\n",
    "          save_fig=False,  # If True, the figure will be saved\n",
    "          plot_corner=True,  # Whether or not to plot the corner plot results if MCMC=True\n",
    "\n",
    "          # debugging mode\n",
    "          verbose=True,  # turn on (True) or off (False) debugging output\n",
    "\n",
    "          # sublevel parameters for figure plot and emcee\n",
    "          kwargs_plot={\n",
    "              'save_fig_path': '.',  # The output path of the figure\n",
    "              'broad_fwhm'   : 1200  # km/s, lower limit that code decide if a line component belongs to broad component\n",
    "          },\n",
    "          kwargs_conti_emcee={},\n",
    "          kwargs_line_emcee={})\n",
    "\n",
    "end = timeit.default_timer()\n",
    "\n",
    "print(f'Fitting finished in {np.round(end - start, 1)}s')"
   ]
  },
  {
   "cell_type": "markdown",
   "id": "6ba96379-e524-40bf-adcd-ff4ce77f11bd",
   "metadata": {
    "tags": []
   },
   "source": [
    "## Sorting result and make figures"
   ]
  },
  {
   "cell_type": "code",
   "execution_count": 88,
   "id": "e1dfea81-f523-48f6-b83c-659aca8354df",
   "metadata": {},
   "outputs": [
    {
     "name": "stdout",
     "output_type": "stream",
     "text": [
      "['NaI5890', 'NaI5890w', 'Ha_br', 'Ha_na', 'NII6585', 'SII6732', 'Ha_naw', 'NII6585w', 'SII6732w', 'Hb_naw', 'OIII5007c', 'OIII5007w']\n"
     ]
    }
   ],
   "source": [
    "pname=q.gauss_result_name[::2]\n",
    "lines=['_'.join(pname[nn*3].split('_')[:-2]) for nn in range(int(len(pname) / 3))]\n",
    "print(lines)"
   ]
  },
  {
   "cell_type": "code",
   "execution_count": null,
   "id": "27d55e1b-1cee-4583-9d56-a57cd7722805",
   "metadata": {},
   "outputs": [],
   "source": [
    "select=\"Ha_na\"\n",
    "line_ind=lines.index(select)\n",
    "line_area=np.zeros(q.gauss_result_all.shape[0])\n",
    "for n_samp in range(q.gauss_result_all.shape[0]):\n",
    "    f_lam=q.Onegauss(np.log(q.wave), q.gauss_result_all[n_samp,line_ind * 3:(line_ind + 1) * 3])\n",
    "    line_area[n_samp]=np.trapz(f_lam,x=q.wave)\n",
    "\n",
    "#plt.plot(q.wave, q.Onegauss(np.log(q.wave), res_nsamp[line_ind * 3:(line_ind + 1) * 3]), color=\"red\")\n",
    "#plt.xlim([6500,6700])\n",
    "#plt.axvline(6564.63)"
   ]
  },
  {
   "cell_type": "code",
   "execution_count": 112,
   "id": "d95d12c8-ab9a-4787-926c-dec2f736a7e4",
   "metadata": {},
   "outputs": [],
   "source": [
    "np.save(datapath+\"/MUSE_gauss_result_abs_obj{}\".format(obj),q.gauss_result_all)\n",
    "np.save(datapath+\"/MUSE_gauss_result_abs_wave_obj{}\".format(obj),np.array([q.wave,q.line_flux,q.external_cont]))\n",
    "np.save(datapath+\"/MUSE_gauss_result_abs_sup_obj{}\".format(obj),q.gauss_result_name)"
   ]
  },
  {
   "cell_type": "code",
   "execution_count": 268,
   "id": "57e3d97b-564a-4508-ad37-96d91514105d",
   "metadata": {},
   "outputs": [],
   "source": [
    "gauss_all=np.load(datapath+\"/MUSE_gauss_result_abs_obj{}.npy\".format(obj))\n",
    "wave_spec=np.load(datapath+\"/MUSE_gauss_result_abs_wave_obj{}.npy\".format(obj))\n",
    "gauss_names=np.load(datapath+\"/MUSE_gauss_result_abs_sup_obj{}.npy\".format(obj))"
   ]
  },
  {
   "cell_type": "code",
   "execution_count": 25,
   "id": "2a0d9de5-11ed-4eaa-ae0d-6206a59c708b",
   "metadata": {},
   "outputs": [
    {
     "name": "stdout",
     "output_type": "stream",
     "text": [
      "['Cf_0' 'Cf_1']\n"
     ]
    }
   ],
   "source": [
    "pp=q_mle.gauss_result_name\n",
    "ngauss = len(pp[:-q_mle.abs_ncomp]) // 3\n",
    "pp_shaped = np.reshape(pp[:-q_mle.abs_ncomp], (ngauss, 3)) #excluding the absorber covering fractions Cf_n\n",
    "pp_shaped_abs = pp_shaped[:q_mle.num_abs_line,:]\n",
    "pp_shaped = pp_shaped[q_mle.num_abs_line:,:]\n",
    "print(pp[-q_mle.abs_ncomp:])\n",
    "\n",
    "            #q_mle.gauss_result_name[:-q_mle.ga]"
   ]
  },
  {
   "cell_type": "code",
   "execution_count": 31,
   "id": "495cb4f6-af10-4d94-92d3-79fad10487b0",
   "metadata": {},
   "outputs": [
    {
     "data": {
      "text/plain": [
       "23"
      ]
     },
     "execution_count": 31,
     "metadata": {},
     "output_type": "execute_result"
    }
   ],
   "source": [
    "ngauss"
   ]
  },
  {
   "cell_type": "markdown",
   "id": "2e6daf73-a2b0-421f-bb2b-7d2ae9ea739f",
   "metadata": {},
   "source": [
    "## making figure: non-MCMC"
   ]
  },
  {
   "cell_type": "code",
   "execution_count": null,
   "id": "be680345-7406-43dd-a753-6ae6a0ef5446",
   "metadata": {},
   "outputs": [],
   "source": [
    "ax.plot(q.wave, q.Onegauss(np.log(q.wave), gauss_result[p * 3:(p + 1) * 3]), color=color)"
   ]
  },
  {
   "cell_type": "code",
   "execution_count": 104,
   "id": "9ee3ba4b-4855-410f-9663-06b6a7fee256",
   "metadata": {},
   "outputs": [
    {
     "name": "stdout",
     "output_type": "stream",
     "text": [
      "                                   value\n",
      "1_complex_name                        Ha\n",
      "1_line_status                          1\n",
      "1_line_min_chi2       17358862563.626587\n",
      "1_line_bic             59594.29340066784\n",
      "1_line_red_chi2       4527611.5189427715\n",
      "...                                  ...\n",
      "Ha_whole_br_sigma      1644.999309800536\n",
      "Ha_whole_br_ew                       inf\n",
      "Ha_whole_br_peak        6563.84868005306\n",
      "Ha_whole_br_area    0.006091426589979559\n",
      "Ha_whole_br_snr    6.673636403843937e-05\n",
      "\n",
      "[84 rows x 1 columns]\n"
     ]
    }
   ],
   "source": [
    "import pandas as pd\n",
    "#print(q_mcmc.line_result_name)\n",
    "#print('')\n",
    "#print(q_mcmc.line_result)\n",
    "q=q_mle\n",
    "line_result=pd.DataFrame({\"value\":q.line_result},index=q.line_result_name)\n",
    "print(line_result)"
   ]
  },
  {
   "cell_type": "code",
   "execution_count": 113,
   "id": "c5ce7415-d237-4b79-8d5d-91be5679210a",
   "metadata": {},
   "outputs": [
    {
     "data": {
      "text/plain": [
       "FITS_rec([(5889.95 , 'Ha', 4640., 6800., 'NaI5890', 1, 1., 0., 1.e+01, 1.e-05, 2.3e-07, 0.0169 , 0.005, 4, 0, 1, 0.2  , 1),\n",
       "          (5895.924, 'Ha', 4640., 6800., 'NaI5896', 1, 1., 0., 1.e+01, 1.e-05, 2.3e-07, 0.0169 , 0.005, 4, 0, 1, 0.1  , 1),\n",
       "          (5889.95 , 'Ha', 4640., 6800., 'NaI5890w', 1, 1., 0., 1.e+01, 1.e-05, 2.3e-07, 0.0169 , 0.005, 5, 0, 2, 0.2  , 1),\n",
       "          (5895.924, 'Ha', 4640., 6800., 'NaI5896w', 1, 1., 0., 1.e+01, 1.e-05, 2.3e-07, 0.0169 , 0.005, 5, 0, 2, 0.1  , 1),\n",
       "          (6564.61 , 'Ha', 4640., 6800., 'Ha_br', 2, 0., 0., 1.e+10, 5.e-03, 4.0e-04, 0.05   , 0.015, 0, 0, 0, 0.05 , 1),\n",
       "          (6564.61 , 'Ha', 4640., 6800., 'Ha_na', 1, 0., 0., 1.e+10, 1.e-03, 2.3e-07, 0.00169, 0.01 , 1, 1, 0, 0.002, 1),\n",
       "          (6549.85 , 'Ha', 4640., 6800., 'NII6549', 1, 0., 0., 1.e+10, 1.e-03, 2.3e-07, 0.00169, 0.005, 1, 1, 0, 0.001, 1),\n",
       "          (6585.28 , 'Ha', 4640., 6800., 'NII6585', 1, 0., 0., 1.e+10, 1.e-03, 2.3e-07, 0.00169, 0.005, 1, 1, 0, 0.003, 1),\n",
       "          (6718.29 , 'Ha', 4640., 6800., 'SII6718', 1, 0., 0., 1.e+10, 1.e-03, 2.3e-07, 0.00169, 0.005, 1, 1, 0, 0.001, 1),\n",
       "          (6732.67 , 'Ha', 4640., 6800., 'SII6732', 1, 0., 0., 1.e+10, 1.e-03, 2.3e-07, 0.00169, 0.005, 1, 1, 0, 0.001, 1),\n",
       "          (5875.621, 'Ha', 4640., 6800., 'HeI5876', 1, 0., 0., 1.e+10, 1.e-03, 2.3e-07, 0.00169, 0.005, 1, 1, 0, 0.001, 1),\n",
       "          (6564.61 , 'Ha', 4640., 6800., 'Ha_naw', 1, 0., 0., 1.e+10, 1.e-03, 2.3e-07, 0.00169, 0.01 , 3, 3, 0, 0.002, 1),\n",
       "          (6549.85 , 'Ha', 4640., 6800., 'NII6549w', 1, 0., 0., 1.e+10, 1.e-03, 2.3e-07, 0.00169, 0.005, 3, 3, 0, 0.001, 1),\n",
       "          (6585.28 , 'Ha', 4640., 6800., 'NII6585w', 1, 0., 0., 1.e+10, 1.e-03, 2.3e-07, 0.00169, 0.005, 3, 3, 0, 0.003, 1),\n",
       "          (6718.29 , 'Ha', 4640., 6800., 'SII6718w', 1, 0., 0., 1.e+10, 1.e-03, 2.3e-07, 0.00169, 0.005, 3, 3, 0, 0.001, 1),\n",
       "          (6732.67 , 'Ha', 4640., 6800., 'SII6732w', 1, 0., 0., 1.e+10, 1.e-03, 2.3e-07, 0.00169, 0.005, 3, 3, 0, 0.001, 1),\n",
       "          (4862.68 , 'Ha', 4640., 6800., 'Hb_na', 1, 0., 0., 1.e+10, 1.e-03, 2.3e-07, 0.00169, 0.01 , 1, 1, 0, 0.002, 1),\n",
       "          (4862.68 , 'Ha', 4640., 6800., 'Hb_naw', 1, 0., 0., 1.e+10, 1.e-03, 2.3e-07, 0.00169, 0.01 , 3, 3, 0, 0.002, 1),\n",
       "          (4960.3  , 'Ha', 4640., 6800., 'OIII4959c', 1, 0., 0., 1.e+10, 1.e-03, 2.3e-07, 0.00169, 0.01 , 1, 1, 0, 0.002, 1),\n",
       "          (5008.24 , 'Ha', 4640., 6800., 'OIII5007c', 1, 0., 0., 1.e+10, 1.e-03, 2.3e-07, 0.00169, 0.01 , 1, 1, 0, 0.004, 1),\n",
       "          (4960.3  , 'Ha', 4640., 6800., 'OIII4959w', 1, 0., 0., 1.e+10, 3.e-03, 2.3e-07, 0.004  , 0.01 , 3, 3, 0, 0.001, 1),\n",
       "          (5008.24 , 'Ha', 4640., 6800., 'OIII5007w', 1, 0., 0., 1.e+10, 3.e-03, 2.3e-07, 0.004  , 0.01 , 3, 3, 0, 0.002, 1)],\n",
       "         dtype=(numpy.record, [('lambda', '>f4'), ('compname', 'S20'), ('minwav', '>f4'), ('maxwav', '>f4'), ('linename', 'S20'), ('ngauss', '>i4'), ('inisca', '>f4'), ('minsca', '>f4'), ('maxsca', '>f4'), ('inisig', '>f4'), ('minsig', '>f4'), ('maxsig', '>f4'), ('voff', '>f4'), ('vindex', '>i4'), ('windex', '>i4'), ('findex', '>i4'), ('fvalue', '>f4'), ('vary', '>i4')]))"
      ]
     },
     "execution_count": 113,
     "metadata": {},
     "output_type": "execute_result"
    }
   ],
   "source": [
    "q.linelist"
   ]
  },
  {
   "cell_type": "code",
   "execution_count": 47,
   "id": "3b6efba3-9347-420e-8fd8-b0410205e1b4",
   "metadata": {},
   "outputs": [
    {
     "data": {
      "text/plain": [
       "(70,)"
      ]
     },
     "execution_count": 47,
     "metadata": {},
     "output_type": "execute_result"
    }
   ],
   "source": [
    "q.gauss_result.shape"
   ]
  },
  {
   "cell_type": "code",
   "execution_count": 117,
   "id": "c4b387a8-2833-4b81-a835-7e94ecb04b70",
   "metadata": {},
   "outputs": [
    {
     "data": {
      "text/plain": [
       "array([1.81531749e+00, 8.67989378e+00, 2.89005655e-04, 9.07658745e-01,\n",
       "       8.68090753e+00, 1.97865183e-04, 4.92643075e-01, 8.68076915e+00,\n",
       "       5.73066267e-04, 2.46321538e-01, 8.68178291e+00, 2.54969990e-07,\n",
       "       8.53558613e+00, 8.78535774e+00, 1.14875564e-03, 4.31194846e+01,\n",
       "       8.79032444e+00, 2.03825455e-03, 6.27911707e+02, 8.78948577e+00,\n",
       "       2.94257493e-04, 1.35811560e+02, 8.78723414e+00, 2.94257493e-04,\n",
       "       3.96351148e+02, 8.79262908e+00, 2.94257493e-04, 5.72753101e+01,\n",
       "       8.81262572e+00, 2.94257493e-04, 6.71738098e+01, 8.81476386e+00,\n",
       "       2.94257493e-04, 9.50256540e-02, 8.67860396e+00, 2.94257493e-04,\n",
       "       1.36356137e+02, 8.78916552e+00, 7.76797572e-04, 4.80705559e+01,\n",
       "       8.78691389e+00, 7.76797572e-04, 1.07470523e+02, 8.79230883e+00,\n",
       "       7.76797572e-04, 2.10443335e+01, 8.81230547e+00, 7.76797572e-04,\n",
       "       1.59890029e+01, 8.81444361e+00, 7.76797572e-04, 8.29748747e+01,\n",
       "       8.48938258e+00, 2.94257493e-04, 4.72009659e+01, 8.48906233e+00,\n",
       "       7.76797572e-04, 4.10781076e+00, 8.50925811e+00, 2.94257493e-04,\n",
       "       1.83595311e+01, 8.51887687e+00, 2.94257493e-04, 1.14099757e+01,\n",
       "       8.50893785e+00, 7.76797572e-04, 3.29806565e+01, 8.51855661e+00,\n",
       "       7.76797572e-04, 4.80791427e-01, 6.03566546e-01])"
      ]
     },
     "execution_count": 117,
     "metadata": {},
     "output_type": "execute_result"
    }
   ],
   "source": [
    "q.gauss_result[::2]"
   ]
  },
  {
   "cell_type": "code",
   "execution_count": 203,
   "id": "02a4ddd3-7091-48a8-82c6-0299ae6b236d",
   "metadata": {},
   "outputs": [
    {
     "name": "stdout",
     "output_type": "stream",
     "text": [
      "result for obj3\n",
      "line shift: 8.48934382807464\n",
      "Old redshift z = 0.031800\n",
      "Best-fitting redshift z = 0.031799\n",
      "\n",
      "line shift: 0.011055049029891961\n",
      "velocity shift of Ha_na: -0.504862\n",
      "Old redshift z = 0.031800\n",
      "Best-fitting redshift z = 0.031798\n",
      "\n"
     ]
    },
    {
     "data": {
      "image/png": "[encoded data removed]",
      "text/plain": [
       "<Figure size 1200x900 with 1 Axes>"
      ]
     },
     "metadata": {},
     "output_type": "display_data"
    }
   ],
   "source": [
    "plt.rcdefaults()\n",
    "import scienceplots\n",
    "\n",
    "fig, ax = plt.subplots(1, 1,figsize=(4,3), dpi=300)\n",
    "plt.style.use([\"science\"])\n",
    "plt.rcParams.update({\n",
    "    \"font.family\": \"dejavu sans\",   # specify font family here\n",
    "    \"font.serif\": [\"Times\"],  # specify font here\n",
    "    \"font.size\":8,\n",
    "\"legend.fancybox\":True})\n",
    "q=q_mle\n",
    "\n",
    "if q.MCMC:\n",
    "    gauss_result = q.gauss_result[::2]\n",
    "else:\n",
    "    gauss_result = q.gauss_result\n",
    "\n",
    "# Plot individual line components\n",
    "if q.num_abs_line > 0:\n",
    "    start_emission=q.num_abs_line\n",
    "for p in range(start_emission,int(len(gauss_result) / 3)):\n",
    "    if q.CalFWHM(gauss_result[3 * p + 2]) < 1200:  # < 1200 km/s narrow\n",
    "        color = 'g'  # narrow\n",
    "    else:\n",
    "        color = 'r'  # broad\n",
    "    ax.plot(q.wave, q.Onegauss(np.log(q.wave), gauss_result[p * 3:(p + 1) * 3]), color=color)\n",
    "\n",
    "# Plot total line model\n",
    "\n",
    "ax.plot(q.wave, q.Manygauss(np.log(q.wave), gauss_result), 'b', lw=1)\n",
    "ax.step(q.wave, q.line_flux, 'k',lw=0.5)\n",
    "xlow=5800\n",
    "xhigh=5900\n",
    "ax.set_xlim(xlow, xhigh)\n",
    "#yup=np.max(q.line_flux)\n",
    "yup=5\n",
    "ylow=-2\n",
    "ax.set_ylim(ylow,yup)\n",
    "#ax.set_yscale(\"log\")\n",
    "ax.set_xlabel(r'$\\rm Rest \\, Wavelength$ ($\\rm \\AA$)')\n",
    "ax.set_ylabel(r'$\\rm f_{\\lambda}$ ($\\rm 10^{-17} erg\\;s^{-1}\\;cm^{-2}\\;\\AA^{-1}$)')\n",
    "'''\n",
    "Line properties\n",
    "'''\n",
    "print(\"result for obj{}\".format(obj))\n",
    "\n",
    "\n",
    "from astropy import constants\n",
    "from astropy import units as u\n",
    "c=constants.c.to(u.km/u.s).value\n",
    "#linename=\"OIII5007c\"\n",
    "linename=\"Hb_naw\"\n",
    "#linename=\"H2_S1\"\n",
    "#lineshift=np.exp(float(line_result.loc[\"{}_1_centerwave\".format(linename)]))-4862.68\n",
    "lineshift=float(line_result.loc[\"{}_1_centerwave\".format(linename)])\n",
    "linec=np.exp(float(line_result.loc[\"{}_1_centerwave\".format(linename)]))\n",
    "#flinecerr=linec*float(line_result.loc[\"{}_1_centerwave_err\".format(linename)]) #these are tied together\n",
    "\n",
    "\n",
    "zf=1+z\n",
    "zfpec = linec/4862.68\n",
    "#ax.plot(contwave/zf,cont*1e-3,\"m\")\n",
    "#vpec =  (linec/4862.68-1)*c                     # This is the fitted residual velocity in km/s\n",
    "#dvpec = flinecerr/4862.68*c\n",
    "#znew = (1 + z)*np.exp(vpec/c) - 1           # eq.(5c) Cappellari (2023)\n",
    "znew = zf*zfpec-1\n",
    "#dznew = (1 + znew)*dvpec/c              # eq.(5d) Cappellari (2023)\n",
    "#dznew = znew*flinecerr/linec\n",
    "print(f\"line shift: {lineshift}\")\n",
    "#print(f\"velocity shift of {linename:s}: {vpec:#.6f}\") #+/- {dvpec:#.2g}\")\n",
    "print(f\"Old redshift z = {z:#.6f}\")\n",
    "print(f\"Best-fitting redshift z = {znew:#.6f}\")# +/- {dznew:#.2g}\")\n",
    "print(\"\")\n",
    "\n",
    "linename=\"Ha_na\"\n",
    "#lineshift=float(line_result.loc[\"{}_1_centerwave\".format(linename)])\n",
    "linec=np.exp(float(line_result.loc[\"{}_1_centerwave\".format(linename)]))\n",
    "lineshift=6564.61-linec\n",
    "#flinecerr=linec*float(line_result.loc[\"{}_1_centerwave_err\".format(linename)])\n",
    "\n",
    "zfpec = linec/6564.61\n",
    "vpec =  (linec/6564.61-1)*c                     # This is the fitted residual velocity in km/s\n",
    "#dvpec = flinecerr/6564.61*c\n",
    "#znew = (1 + z)*np.exp(vpec/c) - 1           # eq.(5c) Cappellari (2023)\n",
    "znew = zf*zfpec-1\n",
    "#dznew = (1 + znew)*dvpec/c              # eq.(5d) Cappellari (2023)\n",
    "#dznew = znew*flinecerr/linec\n",
    "print(f\"line shift: {lineshift}\")\n",
    "print(f\"velocity shift of {linename:s}: {vpec:#.6f}\") #+/- {dvpec:#.2g}\")\n",
    "print(f\"Old redshift z = {z:#.6f}\")\n",
    "print(f\"Best-fitting redshift z = {znew:#.6f}\")# +/- {dznew:#.2g}\")\n",
    "print(\"\")\n",
    "\n",
    "#NII6549w_1_scale)      = -0.1871\n",
    "#    C(Ha_br_2_scale, SII6718w_1\n",
    "all_area={}\n",
    "all_peaks={}\n",
    "ln_to_print=['OIII5007c','OIII4959c','Ha_naw','Hb_naw',\"NII6549\",\"NII6585\",\"SII6718\",\"SII6732\",'Ha_na','Hb_na',\"HeI5876\"]#,\"NaI5890\",\"NaI5896\"]\n",
    "text=[r'[OIII]$\\,$5007',r'[OIII]$\\,$4959',r'H$\\alpha$',r'H$\\beta$',r\"[NII]$\\,$6549\",r\"[NII]$\\,$6585\",r\"[SII]$\\,$6718\",r\"[SII]$\\,$6732\"]\n",
    "\"\"\"\n",
    "for ind,ln in enumerate(ln_to_print):\n",
    "    if \"br\" in ln:\n",
    "        fwhm, sigma, ew, peak, area, snr = q.line_prop_from_name(ln, 'broad')\n",
    "    else:\n",
    "        fwhm, sigma, ew, peak, area, snr = q.line_prop_from_name(ln, 'narrow')\n",
    "    all_area[ln]=area\n",
    "    all_peaks[ln]=peak\n",
    "    print(\"{}:\".format(ln))\n",
    "    print(\"FWHM (km/s)\", np.round(fwhm, 1))\n",
    "    print(\"Sigma (km/s)\", np.round(sigma, 1))\n",
    "    print(\"EW (A)\", np.round(ew, 1))\n",
    "    print(\"Peak (A)\", np.round(peak, 1))\n",
    "    print(\"Area (10^(-17) erg/s/cm^2)\", np.round(area, 1))\n",
    "    print(\"\")\n",
    "    if peak > xhigh or peak < xlow:\n",
    "        continue\n",
    "    ax.axvline(peak,color=\"C{}\".format(ind),lw=0.5,ls=\":\")\n",
    "    try:\n",
    "        ax.text(peak*0.999, 5e-1*yup,text[ind], rotation=90,verticalalignment='bottom',horizontalalignment='center',fontsize=8)\n",
    "    except:\n",
    "        print(ln,\"doesn't have a text label!\")\n",
    "\"\"\"\n",
    "ax.plot(lam/(1+z),continterp*10,\"r\")\n",
    "ax.plot(lam/(1+z),data[:,1]*10,\"m\")\n",
    "#ax.plot(lam/(1+z),err,\"k\")\n",
    "#ax.axvline(5890)\n",
    "ax.axvline(5896)\n",
    "ax.axvline(5876)\n",
    "plt.tight_layout()\n",
    "#fig.savefig(datapath+\"/fig/MUSE_obj{}.pdf\".format(obj))"
   ]
  },
  {
   "cell_type": "code",
   "execution_count": 99,
   "id": "edbb5bd4-091f-4304-82c3-0947b8de24fe",
   "metadata": {},
   "outputs": [
    {
     "name": "stdout",
     "output_type": "stream",
     "text": [
      "['Cf_0' 'Cf_1']\n"
     ]
    }
   ],
   "source": [
    "def search_pattern_in_array(arr, pattern=\"Cf\"):\n",
    "    \"\"\"\n",
    "    Searches for a given pattern in a NumPy array of strings.\n",
    "    \n",
    "    Parameters:\n",
    "    arr (np.ndarray): NumPy array of strings to search within.\n",
    "    pattern (str): Pattern to search for in each string.\n",
    "    \n",
    "    Returns:\n",
    "    np.ndarray: Array of strings containing the pattern.\n",
    "    \"\"\"\n",
    "    # Use np.char.find to get indices where the pattern is found\n",
    "    match_indices = np.char.find(arr, pattern) >= 0  # Boolean mask\n",
    "    return arr[match_indices]\n",
    "\n",
    "# Example usage\n",
    "matching_strings = search_pattern_in_array(q.line_result_name)\n",
    "print(matching_strings)"
   ]
  },
  {
   "cell_type": "code",
   "execution_count": 105,
   "id": "a609e861-0cd9-44fb-b7b6-c9385bef359f",
   "metadata": {},
   "outputs": [
    {
     "data": {
      "text/plain": [
       "(159,)"
      ]
     },
     "execution_count": 105,
     "metadata": {},
     "output_type": "execute_result"
    }
   ],
   "source": [
    "q.line_result_name.shape"
   ]
  },
  {
   "cell_type": "markdown",
   "id": "9d7e7752-b409-4750-989a-013d0cd84ac2",
   "metadata": {},
   "source": [
    "## Generating EW for NaID"
   ]
  },
  {
   "cell_type": "code",
   "execution_count": 383,
   "id": "ea8a984c-58cf-4a60-8ed0-7b92ef929097",
   "metadata": {},
   "outputs": [],
   "source": [
    "linename=\"NaI5896\"\n",
    "\n",
    "ind_ini=np.where(q.gauss_result_name==\"NaI5890_1_scale\")[0][0]\n",
    "\n",
    "param=q.gauss_result[ind_ini:ind_ini+3]\n",
    "#linec=np.exp(float(line_result.loc[\"{}_1_centerwave\".format(linename)]))\n",
    "\n",
    "out_conti=np.interp(q.wave,contwave,cont)\n",
    "f_lam=q.Onegauss(np.log(q.wave), param)+out_conti*1e-3\n",
    "\n",
    "\n",
    "line_area=np.trapz(f_lam[abs_ind],x=q.wave[abs_ind])\n",
    "\n",
    "EW=line_area/np.trapz(out_conti[abs_ind]*1e-3,x=q.wave[abs_ind])"
   ]
  },
  {
   "cell_type": "code",
   "execution_count": 384,
   "id": "44b332a4-0d37-439e-ae29-9a523f8f4bcd",
   "metadata": {},
   "outputs": [
    {
     "data": {
      "text/plain": [
       "0.9847517734162845"
      ]
     },
     "execution_count": 384,
     "metadata": {},
     "output_type": "execute_result"
    }
   ],
   "source": [
    "line_reg_ind=np.where(q.gauss_result_name==\"NaI5890_1_scale\")[0]"
   ]
  },
  {
   "cell_type": "code",
   "execution_count": 439,
   "id": "464cb1a1-2641-42aa-824b-ca3cc3c82e10",
   "metadata": {},
   "outputs": [
    {
     "data": {
      "text/plain": [
       "2"
      ]
     },
     "execution_count": 439,
     "metadata": {},
     "output_type": "execute_result"
    }
   ],
   "source": [
    "q.num_abs_line"
   ]
  },
  {
   "cell_type": "code",
   "execution_count": 381,
   "id": "bbff879c-6751-41e4-9ab2-873a03dc7ebf",
   "metadata": {},
   "outputs": [],
   "source": [
    "abs_ind=abs_f<-1e-2"
   ]
  },
  {
   "cell_type": "code",
   "execution_count": 372,
   "id": "ca8a9b59-6365-4963-8bdf-4acb94c65c05",
   "metadata": {},
   "outputs": [
    {
     "data": {
      "text/plain": [
       "5890.400788992586"
      ]
     },
     "execution_count": 372,
     "metadata": {},
     "output_type": "execute_result"
    }
   ],
   "source": [
    "np.exp(8.68107932)"
   ]
  },
  {
   "cell_type": "code",
   "execution_count": 382,
   "id": "23757f4e-fe12-46dd-89a0-13398bdb38ec",
   "metadata": {},
   "outputs": [
    {
     "data": {
      "text/plain": [
       "[<matplotlib.lines.Line2D at 0x7fa138a98580>]"
      ]
     },
     "execution_count": 382,
     "metadata": {},
     "output_type": "execute_result"
    },
    {
     "data": {
      "image/png": "[encoded data removed]",
      "text/plain": [
       "<Figure size 350x262.5 with 1 Axes>"
      ]
     },
     "metadata": {},
     "output_type": "display_data"
    }
   ],
   "source": [
    "plt.plot(q.wave[abs_ind],f_lam[abs_ind])"
   ]
  },
  {
   "cell_type": "code",
   "execution_count": 128,
   "id": "4be23476-8a57-4fa1-808f-aefe6661f200",
   "metadata": {},
   "outputs": [
    {
     "data": {
      "text/plain": [
       "41.92798420679962"
      ]
     },
     "execution_count": 128,
     "metadata": {},
     "output_type": "execute_result"
    }
   ],
   "source": [
    "from astropy.cosmology import Planck18\n",
    "SA=Planck18.luminosity_distance(0.0312).to(u.cm)**2*4*np.pi\n",
    "0.95*np.log10(457.6e-17*SA.value)+3.89"
   ]
  },
  {
   "cell_type": "code",
   "execution_count": 336,
   "id": "58537fab-8e7c-4bce-920a-ed253d7918ba",
   "metadata": {},
   "outputs": [
    {
     "data": {
      "text/plain": [
       "array([ 1.02319557e+02,  8.78937940e+00,  4.95438291e-04,  1.79535953e+01,\n",
       "        8.78712777e+00,  4.95438291e-04,  4.83493595e+01,  8.79252271e+00,\n",
       "        4.95438291e-04,  1.80016418e+01,  8.81251935e+00,  4.95438291e-04,\n",
       "        1.38378947e+01,  8.81465749e+00,  4.95438291e-04,  6.51179000e+00,\n",
       "        8.67849759e+00,  4.95438291e-04, -2.95371437e+00,  8.68107932e+00,\n",
       "        2.20810874e-04, -6.57672882e-02,  8.68209308e+00,  2.20810874e-04,\n",
       "        5.63811839e+02,  8.78952544e+00,  2.20810874e-04,  6.42606079e+01,\n",
       "        8.78727382e+00,  2.20810874e-04,  1.97361892e+02,  8.79266875e+00,\n",
       "        2.20810874e-04,  6.52320092e+01,  8.81266539e+00,  2.20810874e-04,\n",
       "        5.43268636e+01,  8.81480353e+00,  2.20810874e-04,  4.38539371e+01,\n",
       "        8.48927621e+00,  4.95438291e-04,  1.19506756e+02,  8.48942225e+00,\n",
       "        2.20810874e-04,  3.68401698e+00,  8.50915174e+00,  4.95438291e-04,\n",
       "        1.29129030e+01,  8.51877050e+00,  4.95438291e-04,  3.87224475e+00,\n",
       "        8.50929778e+00,  2.20810874e-04,  8.40841230e+00,  8.51891654e+00,\n",
       "        2.20810874e-04])"
      ]
     },
     "execution_count": 336,
     "metadata": {},
     "output_type": "execute_result"
    }
   ],
   "source": [
    "q.gauss_result"
   ]
  },
  {
   "cell_type": "code",
   "execution_count": 98,
   "id": "78862fd6-4455-4477-a72f-42b9c68fad1d",
   "metadata": {},
   "outputs": [],
   "source": [
    "from dust_attenuation.averages import C00\n",
    "Cex=C00()"
   ]
  },
  {
   "cell_type": "code",
   "execution_count": 54,
   "id": "90c172d4-4ff1-433b-a9a3-803d44ed8494",
   "metadata": {},
   "outputs": [
    {
     "data": {
      "text/plain": [
       "{'OIII5007w': 80.58972657969765,\n",
       " 'OIII4959w': 21.789950861216155,\n",
       " 'Ha_naw': 2144.5587838064025,\n",
       " 'Hb_naw': 230.54526591454626,\n",
       " 'NII6549w': 445.65694688327255,\n",
       " 'NII6585w': 1428.182661955051,\n",
       " 'SII6718w': 162.3768680690234,\n",
       " 'SII6732w': 213.94720511305445}"
      ]
     },
     "execution_count": 54,
     "metadata": {},
     "output_type": "execute_result"
    }
   ],
   "source": [
    "all_area"
   ]
  },
  {
   "cell_type": "code",
   "execution_count": 182,
   "id": "ac02bdfb-83e4-4ec6-a7dd-4d5aed5a56c1",
   "metadata": {},
   "outputs": [
    {
     "name": "stdout",
     "output_type": "stream",
     "text": [
      "[0.46206538]\n"
     ]
    }
   ],
   "source": [
    "#print(r\"H$_2$/Br$\\gamma$\",all_area['H2_10_S1']/all_area['Brg_na'])\n",
    "#print(\"H_2/Br gamma\",all_area['H2_10_S1']/all_area['Brg_na'])\n",
    "#EBV=2.5/1.163*np.log10(((all_area['Ha_naw']+all_area['Ha_na'])/(all_area['Hb_naw']+all_area['Hb_na'])/2.68))\n",
    "EBV=2.5/(Cex.k_lambda(x=[0.486268])-Cex.k_lambda(x=[0.656461]))*np.log10(((all_area['Ha_naw']+all_area['Ha_na'])/(all_area['Hb_naw']+all_area['Hb_na'])/2.86))\n",
    "\n",
    "print(EBV)"
   ]
  },
  {
   "cell_type": "code",
   "execution_count": null,
   "id": "11f5fe7c-13d7-4d22-8f1f-d76b1a87a983",
   "metadata": {},
   "outputs": [],
   "source": []
  },
  {
   "cell_type": "code",
   "execution_count": 183,
   "id": "5bfeae52-cd7d-4a24-8f86-d239f9d56876",
   "metadata": {},
   "outputs": [
    {
     "name": "stdout",
     "output_type": "stream",
     "text": [
      "[1.87039001]\n"
     ]
    }
   ],
   "source": [
    "from dust_attenuation.averages import C00\n",
    "Cex=C00()\n",
    "wave=[]\n",
    "for key in all_peaks:\n",
    "    if all_peaks[key]/10000 > 2.2:\n",
    "        continue\n",
    "    else:\n",
    "        wave.append(all_peaks[key]/10000)\n",
    "Alambda=Cex.k_lambda(x=wave)*EBV\n",
    "print(Cex.k_lambda(x=[0.5500])*EBV)"
   ]
  },
  {
   "cell_type": "code",
   "execution_count": 184,
   "id": "d30ffeed-09ae-4123-a24b-1a9a9bbacb4f",
   "metadata": {},
   "outputs": [
    {
     "name": "stdout",
     "output_type": "stream",
     "text": [
      "[2.79304436]\n"
     ]
    }
   ],
   "source": [
    "print(Cex.k_lambda(x=[0.5500])*0.69)"
   ]
  },
  {
   "cell_type": "code",
   "execution_count": 90,
   "id": "bbe9d350-58ea-4dbb-99ce-ee345ed8c65c",
   "metadata": {},
   "outputs": [
    {
     "data": {
      "text/plain": [
       "[<matplotlib.lines.Line2D at 0x7f47ad670f70>]"
      ]
     },
     "execution_count": 90,
     "metadata": {},
     "output_type": "execute_result"
    },
    {
     "data": {
      "image/png": "[encoded data removed]",
      "text/plain": [
       "<Figure size 350x262.5 with 1 Axes>"
      ]
     },
     "metadata": {},
     "output_type": "display_data"
    }
   ],
   "source": [
    "xlow=5867\n",
    "xhigh=6000\n",
    "line_ind=(lam/(1+z)>xlow)&(lam/(1+z)<xhigh)\n",
    "\n",
    "plt.plot(lam[line_ind],data[:,1][line_ind]*1e-3)"
   ]
  },
  {
   "cell_type": "code",
   "execution_count": 387,
   "id": "c7acb3ba-d82d-4de6-a7de-16b422924f1e",
   "metadata": {},
   "outputs": [],
   "source": [
    "# Requried\n",
    "data = np.loadtxt(os.path.join(path_out, \"{}_nuclear_spec_r0.75_obj{}.txt\".format(instru.split(\"_\")[0],obj)))\n",
    "lam = data[:,0]  # OBS wavelength [A]\n",
    "#flux = data[:,1]*1e-3  # OBS flux [1e-17 erg/s/cm^2/A]\n",
    "err = data[:,2]*1e-3  # 1 sigma error\n",
    "\n",
    "#continuum\n",
    "cont=np.loadtxt(os.path.join(path_out, \"{}_nuclear_spec_ppxfmodel_r0.75_obj{}.txt\".format(instru.split(\"_\")[0],obj)))*1e20 # to 1e-20\n",
    "contwave=np.loadtxt(os.path.join(path_out, \"wave_ln_binned.txt\"))\n",
    "continterp=np.interp(lam,contwave,cont)\n",
    "flux=(data[:,1]-continterp)*1e-3\n",
    "\n",
    "\n",
    "\n",
    "\n",
    "# create FITS file containing fitting parameter setup \n",
    "hdr0 = fits.Header()\n",
    "hdr0['Author'] = 'Yuanze Ding'\n",
    "primary_hdu = fits.PrimaryHDU(header=hdr0)\n",
    "\n",
    "\"\"\"\n",
    "In this table, we specify the priors / initial conditions and boundaries for the line fitting parameters.\n",
    "\"\"\"\n",
    "\n",
    "line_priors = np.rec.array([\n",
    "    (5889.950, 'Ha', 4640, 6800, 'NaI5890w', 1, 1e1, 0.0, 1e10, 1e-3, 2.3e-7, 0.00169, 5e-3, 5, 5, 0, 0.001, 1),\n",
    "    (5895.924, 'Ha', 4640, 6800, 'NaI5896w', 1, 1e1, 0.0, 1e10, 1e-3, 2.3e-7, 0.00169, 5e-3, 5, 5, 0, 0.001, 1),\n",
    "    #(6564.61, 'Ha', 4640, 6800, 'Ha_br', 2, 0.0, 0.0, 1e10, 5e-3, 4e-4, 0.05, 0.015, 0, 0, 0, 0.05, 1),\n",
    "    #(6549.85, 'Ha', 6400, 6800, 'NII6549_br', 2, 0.0, 0.0, 1e10, 5e-3, 4e-4, 0.05, 0.015, 0, 0, 0, 0.05, 1),\n",
    "    #(6585.28, 'Ha', 6400, 6800, 'NII6585_br', 2, 0.0, 0.0, 1e10, 5e-3, 4e-4, 0.05, 0.015, 0, 0, 0, 0.05, 1),\n",
    "    (6564.61, 'Ha', 4640, 6800, 'Ha_na', 1, 0.0, 0.0, 1e10, 1e-3, 2.3e-7, 0.00169, 0.01, 1, 1, 0, 0.002, 1),\n",
    "    (6549.85, 'Ha', 4640, 6800, 'NII6549', 1, 0.0, 0.0, 1e10, 1e-3, 2.3e-7, 0.00169, 5e-3, 1, 1, 0, 0.001, 1),\n",
    "    (6585.28, 'Ha', 4640, 6800, 'NII6585', 1, 0.0, 0.0, 1e10, 1e-3, 2.3e-7, 0.00169, 5e-3, 1, 1, 0, 0.003, 1),\n",
    "    (6718.29, 'Ha', 4640, 6800, 'SII6718', 1, 0.0, 0.0, 1e10, 1e-3, 2.3e-7, 0.00169, 5e-3, 1, 1, 0, 0.001, 1),\n",
    "    (6732.67, 'Ha', 4640, 6800, 'SII6732', 1, 0.0, 0.0, 1e10, 1e-3, 2.3e-7, 0.00169, 5e-3, 1, 1, 0, 0.001, 1),\n",
    "    (5875.621, 'Ha', 4640, 6800, 'HeI5876', 1, 0.0, 0.0, 1e10, 1e-3, 2.3e-7, 0.00169, 5e-3, 1, 1, 0, 0.001, 1),\n",
    "    \n",
    "    \n",
    "\n",
    "    \n",
    "#    (8498.02, 'Ha', 6400, 6800, 'CaII8498', 1, 0.0, -1e10, 0.0, 1e-3, 2.3e-5, 0.00169, 5e-3, 7, 7, 0, 0.001, 1),\n",
    "#    (8542.09, 'Ha', 6400, 6800, 'CaII8542', 1, 0.0, -1e10, 0.0, 1e-3, 2.3e-5, 0.00169, 5e-3, 7, 7, 0, 0.001, 1),\n",
    "#    (8662.14, 'Ha', 6400, 6800, 'CaII8662', 1, 0.0,  -1e10, 0.0, 1e-3, 2.3e-5, 0.00169, 5e-3, 7, 7, 0, 0.001, 1),\n",
    "    \n",
    "    (6564.61, 'Ha', 4640, 6800, 'Ha_naw',  1, 0.0, 0.0, 1e10, 1e-3, 2.3e-7,  0.00169, 0.01, 3, 3, 0, 0.002, 1),\n",
    "    (6549.85, 'Ha', 4640, 6800, 'NII6549w', 1, 0.0, 0.0, 1e10, 1e-3, 2.3e-7, 0.00169, 5e-3, 3, 3, 0, 0.001, 1),\n",
    "    (6585.28, 'Ha', 4640, 6800, 'NII6585w', 1, 0.0, 0.0, 1e10, 1e-3, 2.3e-7, 0.00169, 5e-3, 3, 3, 0, 0.003, 1),\n",
    "    (6718.29, 'Ha', 4640, 6800, 'SII6718w', 1, 0.0, 0.0, 1e10, 1e-3, 2.3e-7, 0.00169, 5e-3, 3, 3, 0, 0.001, 1),\n",
    "    (6732.67, 'Ha', 4640, 6800, 'SII6732w', 1, 0.0, 0.0, 1e10, 1e-3, 2.3e-7, 0.00169, 5e-3, 3, 3, 0, 0.001, 1),\n",
    "\n",
    "    #(4862.68, 'Ha', 4640, 6800, 'Hb_br', 2, 0.0, 0.0, 1e10, 5e-3,  4e-4,  0.05,        0.01, 0, 0, 0, 0.01, 1),\n",
    "    (4862.68, 'Ha', 4640, 6800, 'Hb_na', 1, 0.0, 0.0, 1e10, 1e-3, 2.3e-7, 0.00169,     0.01, 1, 1, 0, 0.002, 1),\n",
    "    (4862.68, 'Ha', 4640, 6800, 'Hb_naw', 1, 0.0, 0.0, 1e10, 1e-3, 2.3e-7, 0.00169,    0.01, 3, 3, 0, 0.002, 1),\n",
    "    (4960.30, 'Ha', 4640, 6800, 'OIII4959c', 1, 0.0, 0.0, 1e10, 1e-3, 2.3e-7, 0.00169, 0.01, 1, 1, 0, 0.002, 1),\n",
    "    (5008.24, 'Ha', 4640, 6800, 'OIII5007c', 1, 0.0, 0.0, 1e10, 1e-3, 2.3e-7, 0.00169, 0.01, 1, 1, 0, 0.004, 1),\n",
    "    (4960.30, 'Ha', 4640, 6800, 'OIII4959w',   1, 0.0, 0.0, 1e10, 3e-3, 2.3e-7, 0.004, 0.01, 3, 3, 0, 0.001, 1),\n",
    "    (5008.24, 'Ha', 4640, 6800, 'OIII5007w',   1, 0.0, 0.0, 1e10, 3e-3, 2.3e-7, 0.004, 0.01, 3, 3, 0, 0.002, 1)\n",
    "    ],\n",
    "\n",
    "    formats='float32,    a20,  float32, float32,      a20,  int32, float32, float32, float32, float32, float32, float32, float32,   int32,  int32,  int32, float32, int32',\n",
    "    names=' lambda, compname,   minwav,  maxwav, linename, ngauss,  inisca,  minsca,  maxsca,  inisig,  minsig,  maxsig,    voff,  vindex, windex, findex,  fvalue,  vary')\n",
    "\n",
    "# Header\n",
    "hdr1 = fits.Header()\n",
    "hdr1['lambda'] = 'Vacuum Wavelength in Ang'\n",
    "hdr1['minwav'] = 'Lower complex fitting wavelength range'\n",
    "hdr1['maxwav'] = 'Upper complex fitting wavelength range'\n",
    "hdr1['ngauss'] = 'Number of Gaussians for the line'\n",
    "\n",
    "# Can be set to negative for absorption lines if you want\n",
    "hdr1['inisca'] = 'Initial guess of line scale [flux]'\n",
    "hdr1['minsca'] = 'Lower range of line scale [flux]'\n",
    "hdr1['maxsca'] = 'Upper range of line scale [flux]'\n",
    "\n",
    "hdr1['inisig'] = 'Initial guess of linesigma [lnlambda]'\n",
    "hdr1['minsig'] = 'Lower range of line sigma [lnlambda]'\n",
    "hdr1['maxsig'] = 'Upper range of line sigma [lnlambda]'\n",
    "\n",
    "hdr1['voff  '] = 'Limits on velocity offset from the central wavelength [lnlambda]'\n",
    "hdr1['vindex'] = 'Entries w/ same NONZERO vindex constrained to have same velocity'\n",
    "hdr1['windex'] = 'Entries w/ same NONZERO windex constrained to have same width'\n",
    "hdr1['findex'] = 'Entries w/ same NONZERO findex have constrained flux ratios'\n",
    "hdr1['fvalue'] = 'Relative scale factor for entries w/ same findex'\n",
    "\n",
    "hdr1['vary'] = 'Whether or not to vary the parameter (set to 0 to fix the line parameter to initial values)'\n",
    "\n",
    "# Save line info\n",
    "hdu1 = fits.BinTableHDU(data=line_priors, header=hdr1, name='line_priors')\n",
    "\n",
    "\"\"\"\n",
    "In this table, we specify the windows and priors / initial conditions and boundaries for the continuum fitting parameters.\n",
    "\"\"\"\n",
    "\n",
    "conti_windows = np.rec.array([\n",
    "    (1150., 1170.), \n",
    "    (1275., 1290.),\n",
    "    (1350., 1360.),\n",
    "    (1445., 1465.),\n",
    "    (1690., 1705.),\n",
    "    (1770., 1810.),\n",
    "    (1970., 2400.),\n",
    "    (2480., 2675.),\n",
    "    (2925., 3400.),\n",
    "    (3775., 3832.),\n",
    "    (4000., 4050.),\n",
    "    (4200., 4230.),\n",
    "    (4435., 4640.),\n",
    "    (5100., 5535.),\n",
    "    (6005., 6035.),\n",
    "    (6110., 6250.),\n",
    "    (6800., 7000.),\n",
    "    (7160., 7180.),\n",
    "    (7500., 7800.),\n",
    "    (8050., 8150.), # Continuum fitting windows (to avoid emission line, etc.)  [AA]\n",
    "    (19700.,20250.),\n",
    "    (21700.,22250.)\n",
    "    ], \n",
    "    formats = 'float32,  float32',\n",
    "    names =    'min,     max')\n",
    "\n",
    "hdu2 = fits.BinTableHDU(data=conti_windows, name='conti_windows')\n",
    "\n",
    "conti_priors = np.rec.array([\n",
    "    ('Fe_uv_norm',  0.0,   0.0,   1e10,  0), # Normalization of the MgII Fe template [flux]\n",
    "    ('Fe_uv_FWHM',  3000,  1200,  18000, 0), # FWHM of the MgII Fe template [AA]\n",
    "    ('Fe_uv_shift', 0.0,   -0.01, 0.01,  0), # Wavelength shift of the MgII Fe template [lnlambda]\n",
    "    ('Fe_op_norm',  0.0,   0.0,   1e10,  0), # Normalization of the Hbeta/Halpha Fe template [flux]\n",
    "    ('Fe_op_FWHM',  3000,  1200,  18000, 0), # FWHM of the Hbeta/Halpha Fe template [AA]\n",
    "    ('Fe_op_shift', 0.0,   -0.01, 0.01,  0), # Wavelength shift of the Hbeta/Halpha Fe template [lnlambda]\n",
    "    ('PL_norm',     0.0,   0.0,   1e10,  0), # Normalization of the power-law (PL) continuum f_lambda = (lambda/3000)^-alpha\n",
    "    ('PL_slope',    -1.5,  -5.0,  3.0,   0), # Slope of the power-law (PL) continuum\n",
    "    ('Blamer_norm', 0.0,   0.0,   1e10,  0), # Normalization of the Balmer continuum at < 3646 AA [flux] (Dietrich et al. 2002)\n",
    "    ('Balmer_Te',   15000, 10000, 50000, 0), # Te of the Balmer continuum at < 3646 AA [K?]\n",
    "    ('Balmer_Tau',  0.0,   0.1,   2.0,   0), # Tau of the Balmer continuum at < 3646 AA\n",
    "    ('conti_a_0',   0.0,   None,  None,  0), # 1st coefficient of the polynomial continuum\n",
    "    ('conti_a_1',   0.0,   None,  None,  0), # 2nd coefficient of the polynomial continuum\n",
    "    ('conti_a_2',   0.0,   None,  None,  0), # 3rd coefficient of the polynomial continuum\n",
    "    # Note: The min/max bounds on the conti_a_0 coefficients are ignored by the code,\n",
    "    # so they can be determined automatically for numerical stability.\n",
    "    ],\n",
    "\n",
    "    formats = 'a20,  float32, float32, float32, int32',\n",
    "    names = 'parname, initial,   min,     max,     vary')\n",
    "\n",
    "hdr3 = fits.Header()\n",
    "hdr3['ini'] = 'Initial guess of line scale [flux]'\n",
    "hdr3['min'] = 'FWHM of the MgII Fe template'\n",
    "hdr3['max'] = 'Wavelength shift of the MgII Fe template'\n",
    "\n",
    "hdr3['vary'] = 'Whether or not to vary the parameter (set to 0 to fix the continuum parameter to initial values)'\n",
    "\n",
    "\n",
    "hdu3 = fits.BinTableHDU(data=conti_priors, header=hdr3, name='conti_priors')\n",
    "\n",
    "\"\"\"\n",
    "In this table, we allow user to customized some key parameters in our result measurements.\n",
    "\"\"\"\n",
    "\n",
    "measure_info = Table(\n",
    "    [\n",
    "        [[4600, 5100, 6400, 8000,20000,20900]],\n",
    "        [[\n",
    "            # [2240, 2650], \n",
    "            [5100, 5485],\n",
    "        ]]\n",
    "    ],\n",
    "    names=([\n",
    "        'cont_loc',\n",
    "        'Fe_flux_range'\n",
    "    ]),\n",
    "    dtype=([\n",
    "        'float32',\n",
    "        'float32'\n",
    "    ])\n",
    ")\n",
    "hdr4 = fits.Header()\n",
    "hdr4['cont_loc'] = 'The wavelength of continuum luminosity in results'\n",
    "hdr4['Fe_flux_range'] = 'Fe emission wavelength range calculated in results'\n",
    "\n",
    "hdu4 = fits.BinTableHDU(data=measure_info, header=hdr4, name='measure_info')\n",
    "\n",
    "hdu_list = fits.HDUList([primary_hdu, hdu1, hdu2, hdu3, hdu4])\n",
    "hdu_list.writeto(os.path.join(path_ex, 'qsopar_obj{}_{}_abs.fits'.format(obj,instru)), overwrite=True)"
   ]
  },
  {
   "cell_type": "code",
   "execution_count": null,
   "id": "d69924b5-f6e6-40d4-a3cc-d06d3859880b",
   "metadata": {},
   "outputs": [],
   "source": []
  }
 ],
 "metadata": {
  "kernelspec": {
   "display_name": "pyqsofit",
   "language": "python",
   "name": "pyqsofit"
  },
  "language_info": {
   "codemirror_mode": {
    "name": "ipython",
    "version": 3
   },
   "file_extension": ".py",
   "mimetype": "text/x-python",
   "name": "python",
   "nbconvert_exporter": "python",
   "pygments_lexer": "ipython3",
   "version": "3.9.19"
  }
 },
 "nbformat": 4,
 "nbformat_minor": 5
}
